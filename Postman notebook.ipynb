{
 "cells": [
  {
   "cell_type": "markdown",
   "id": "9e8c0922-c260-4367-b3f9-10b970d8e5e9",
   "metadata": {},
   "source": [
    "# POSTMAN AI ML TASK\n",
    "## First we are going to perform an EDA on the dataset"
   ]
  },
  {
   "cell_type": "code",
   "execution_count": 1,
   "id": "f0fdfba7-b4db-46ea-abf2-69d4a161250a",
   "metadata": {},
   "outputs": [],
   "source": [
    "import pandas as pd\n",
    "import matplotlib.pyplot as plt\n",
    "%matplotlib inline\n",
    "import numpy as np\n",
    "import seaborn as sns\n",
    "import warnings\n",
    "warnings.filterwarnings('ignore')"
   ]
  },
  {
   "cell_type": "code",
   "execution_count": 2,
   "id": "d9d8d509-7f21-43fa-99ff-b9a8f6659dac",
   "metadata": {},
   "outputs": [],
   "source": [
    "smoking=pd.read_csv('smoking.csv')"
   ]
  },
  {
   "cell_type": "code",
   "execution_count": 3,
   "id": "5fb1d38b-b071-4030-b307-ef8fb2ccee1c",
   "metadata": {},
   "outputs": [
    {
     "data": {
      "text/html": [
       "<div>\n",
       "<style scoped>\n",
       "    .dataframe tbody tr th:only-of-type {\n",
       "        vertical-align: middle;\n",
       "    }\n",
       "\n",
       "    .dataframe tbody tr th {\n",
       "        vertical-align: top;\n",
       "    }\n",
       "\n",
       "    .dataframe thead th {\n",
       "        text-align: right;\n",
       "    }\n",
       "</style>\n",
       "<table border=\"1\" class=\"dataframe\">\n",
       "  <thead>\n",
       "    <tr style=\"text-align: right;\">\n",
       "      <th></th>\n",
       "      <th>sex</th>\n",
       "      <th>age</th>\n",
       "      <th>height</th>\n",
       "      <th>weight</th>\n",
       "      <th>waistline</th>\n",
       "      <th>sight_left</th>\n",
       "      <th>sight_right</th>\n",
       "      <th>hear_left</th>\n",
       "      <th>hear_right</th>\n",
       "      <th>SBP</th>\n",
       "      <th>...</th>\n",
       "      <th>LDL_chole</th>\n",
       "      <th>triglyceride</th>\n",
       "      <th>hemoglobin</th>\n",
       "      <th>urine_protein</th>\n",
       "      <th>serum_creatinine</th>\n",
       "      <th>SGOT_AST</th>\n",
       "      <th>SGOT_ALT</th>\n",
       "      <th>gamma_GTP</th>\n",
       "      <th>SMK_stat_type_cd</th>\n",
       "      <th>DRK_YN</th>\n",
       "    </tr>\n",
       "  </thead>\n",
       "  <tbody>\n",
       "    <tr>\n",
       "      <th>0</th>\n",
       "      <td>Male</td>\n",
       "      <td>35</td>\n",
       "      <td>170</td>\n",
       "      <td>75</td>\n",
       "      <td>90.0</td>\n",
       "      <td>1.0</td>\n",
       "      <td>1.0</td>\n",
       "      <td>1</td>\n",
       "      <td>1</td>\n",
       "      <td>120</td>\n",
       "      <td>...</td>\n",
       "      <td>126</td>\n",
       "      <td>92</td>\n",
       "      <td>17.1</td>\n",
       "      <td>1</td>\n",
       "      <td>1.0</td>\n",
       "      <td>21</td>\n",
       "      <td>35</td>\n",
       "      <td>40</td>\n",
       "      <td>1</td>\n",
       "      <td>Y</td>\n",
       "    </tr>\n",
       "    <tr>\n",
       "      <th>1</th>\n",
       "      <td>Male</td>\n",
       "      <td>30</td>\n",
       "      <td>180</td>\n",
       "      <td>80</td>\n",
       "      <td>89.0</td>\n",
       "      <td>0.9</td>\n",
       "      <td>1.2</td>\n",
       "      <td>1</td>\n",
       "      <td>1</td>\n",
       "      <td>130</td>\n",
       "      <td>...</td>\n",
       "      <td>148</td>\n",
       "      <td>121</td>\n",
       "      <td>15.8</td>\n",
       "      <td>1</td>\n",
       "      <td>0.9</td>\n",
       "      <td>20</td>\n",
       "      <td>36</td>\n",
       "      <td>27</td>\n",
       "      <td>3</td>\n",
       "      <td>N</td>\n",
       "    </tr>\n",
       "    <tr>\n",
       "      <th>2</th>\n",
       "      <td>Male</td>\n",
       "      <td>40</td>\n",
       "      <td>165</td>\n",
       "      <td>75</td>\n",
       "      <td>91.0</td>\n",
       "      <td>1.2</td>\n",
       "      <td>1.5</td>\n",
       "      <td>1</td>\n",
       "      <td>1</td>\n",
       "      <td>120</td>\n",
       "      <td>...</td>\n",
       "      <td>74</td>\n",
       "      <td>104</td>\n",
       "      <td>15.8</td>\n",
       "      <td>1</td>\n",
       "      <td>0.9</td>\n",
       "      <td>47</td>\n",
       "      <td>32</td>\n",
       "      <td>68</td>\n",
       "      <td>1</td>\n",
       "      <td>N</td>\n",
       "    </tr>\n",
       "    <tr>\n",
       "      <th>3</th>\n",
       "      <td>Male</td>\n",
       "      <td>50</td>\n",
       "      <td>175</td>\n",
       "      <td>80</td>\n",
       "      <td>91.0</td>\n",
       "      <td>1.5</td>\n",
       "      <td>1.2</td>\n",
       "      <td>1</td>\n",
       "      <td>1</td>\n",
       "      <td>145</td>\n",
       "      <td>...</td>\n",
       "      <td>104</td>\n",
       "      <td>106</td>\n",
       "      <td>17.6</td>\n",
       "      <td>1</td>\n",
       "      <td>1.1</td>\n",
       "      <td>29</td>\n",
       "      <td>34</td>\n",
       "      <td>18</td>\n",
       "      <td>1</td>\n",
       "      <td>N</td>\n",
       "    </tr>\n",
       "    <tr>\n",
       "      <th>4</th>\n",
       "      <td>Male</td>\n",
       "      <td>50</td>\n",
       "      <td>165</td>\n",
       "      <td>60</td>\n",
       "      <td>80.0</td>\n",
       "      <td>1.0</td>\n",
       "      <td>1.2</td>\n",
       "      <td>1</td>\n",
       "      <td>1</td>\n",
       "      <td>138</td>\n",
       "      <td>...</td>\n",
       "      <td>117</td>\n",
       "      <td>104</td>\n",
       "      <td>13.8</td>\n",
       "      <td>1</td>\n",
       "      <td>0.8</td>\n",
       "      <td>19</td>\n",
       "      <td>12</td>\n",
       "      <td>25</td>\n",
       "      <td>1</td>\n",
       "      <td>N</td>\n",
       "    </tr>\n",
       "  </tbody>\n",
       "</table>\n",
       "<p>5 rows × 24 columns</p>\n",
       "</div>"
      ],
      "text/plain": [
       "    sex  age  height  weight  waistline  sight_left  sight_right  hear_left  \\\n",
       "0  Male   35     170      75       90.0         1.0          1.0          1   \n",
       "1  Male   30     180      80       89.0         0.9          1.2          1   \n",
       "2  Male   40     165      75       91.0         1.2          1.5          1   \n",
       "3  Male   50     175      80       91.0         1.5          1.2          1   \n",
       "4  Male   50     165      60       80.0         1.0          1.2          1   \n",
       "\n",
       "   hear_right  SBP  ...  LDL_chole  triglyceride  hemoglobin  urine_protein  \\\n",
       "0           1  120  ...        126            92        17.1              1   \n",
       "1           1  130  ...        148           121        15.8              1   \n",
       "2           1  120  ...         74           104        15.8              1   \n",
       "3           1  145  ...        104           106        17.6              1   \n",
       "4           1  138  ...        117           104        13.8              1   \n",
       "\n",
       "   serum_creatinine  SGOT_AST  SGOT_ALT  gamma_GTP  SMK_stat_type_cd  DRK_YN  \n",
       "0               1.0        21        35         40                 1       Y  \n",
       "1               0.9        20        36         27                 3       N  \n",
       "2               0.9        47        32         68                 1       N  \n",
       "3               1.1        29        34         18                 1       N  \n",
       "4               0.8        19        12         25                 1       N  \n",
       "\n",
       "[5 rows x 24 columns]"
      ]
     },
     "execution_count": 3,
     "metadata": {},
     "output_type": "execute_result"
    }
   ],
   "source": [
    "smoking.head()"
   ]
  },
  {
   "cell_type": "markdown",
   "id": "b6bfc201-1a87-4c2d-b5a2-87f3eab4157e",
   "metadata": {},
   "source": [
    "### Understanding the data"
   ]
  },
  {
   "cell_type": "code",
   "execution_count": 4,
   "id": "60a01896-1f05-455b-9c61-0d72283a0409",
   "metadata": {},
   "outputs": [
    {
     "data": {
      "text/html": [
       "<div>\n",
       "<style scoped>\n",
       "    .dataframe tbody tr th:only-of-type {\n",
       "        vertical-align: middle;\n",
       "    }\n",
       "\n",
       "    .dataframe tbody tr th {\n",
       "        vertical-align: top;\n",
       "    }\n",
       "\n",
       "    .dataframe thead th {\n",
       "        text-align: right;\n",
       "    }\n",
       "</style>\n",
       "<table border=\"1\" class=\"dataframe\">\n",
       "  <thead>\n",
       "    <tr style=\"text-align: right;\">\n",
       "      <th></th>\n",
       "      <th>sex</th>\n",
       "      <th>age</th>\n",
       "      <th>height</th>\n",
       "      <th>weight</th>\n",
       "      <th>waistline</th>\n",
       "      <th>sight_left</th>\n",
       "      <th>sight_right</th>\n",
       "      <th>hear_left</th>\n",
       "      <th>hear_right</th>\n",
       "      <th>SBP</th>\n",
       "      <th>...</th>\n",
       "      <th>LDL_chole</th>\n",
       "      <th>triglyceride</th>\n",
       "      <th>hemoglobin</th>\n",
       "      <th>urine_protein</th>\n",
       "      <th>serum_creatinine</th>\n",
       "      <th>SGOT_AST</th>\n",
       "      <th>SGOT_ALT</th>\n",
       "      <th>gamma_GTP</th>\n",
       "      <th>SMK_stat_type_cd</th>\n",
       "      <th>DRK_YN</th>\n",
       "    </tr>\n",
       "  </thead>\n",
       "  <tbody>\n",
       "    <tr>\n",
       "      <th>991341</th>\n",
       "      <td>Male</td>\n",
       "      <td>45</td>\n",
       "      <td>175</td>\n",
       "      <td>80</td>\n",
       "      <td>92.1</td>\n",
       "      <td>1.5</td>\n",
       "      <td>1.5</td>\n",
       "      <td>1</td>\n",
       "      <td>1</td>\n",
       "      <td>114</td>\n",
       "      <td>...</td>\n",
       "      <td>125</td>\n",
       "      <td>132</td>\n",
       "      <td>15.0</td>\n",
       "      <td>1</td>\n",
       "      <td>1.0</td>\n",
       "      <td>26</td>\n",
       "      <td>36</td>\n",
       "      <td>27</td>\n",
       "      <td>1</td>\n",
       "      <td>N</td>\n",
       "    </tr>\n",
       "    <tr>\n",
       "      <th>991342</th>\n",
       "      <td>Male</td>\n",
       "      <td>35</td>\n",
       "      <td>170</td>\n",
       "      <td>75</td>\n",
       "      <td>86.0</td>\n",
       "      <td>1.0</td>\n",
       "      <td>1.5</td>\n",
       "      <td>1</td>\n",
       "      <td>1</td>\n",
       "      <td>119</td>\n",
       "      <td>...</td>\n",
       "      <td>84</td>\n",
       "      <td>45</td>\n",
       "      <td>15.8</td>\n",
       "      <td>1</td>\n",
       "      <td>1.1</td>\n",
       "      <td>14</td>\n",
       "      <td>17</td>\n",
       "      <td>15</td>\n",
       "      <td>1</td>\n",
       "      <td>N</td>\n",
       "    </tr>\n",
       "    <tr>\n",
       "      <th>991343</th>\n",
       "      <td>Female</td>\n",
       "      <td>40</td>\n",
       "      <td>155</td>\n",
       "      <td>50</td>\n",
       "      <td>68.0</td>\n",
       "      <td>1.0</td>\n",
       "      <td>0.7</td>\n",
       "      <td>1</td>\n",
       "      <td>1</td>\n",
       "      <td>110</td>\n",
       "      <td>...</td>\n",
       "      <td>77</td>\n",
       "      <td>157</td>\n",
       "      <td>14.3</td>\n",
       "      <td>1</td>\n",
       "      <td>0.8</td>\n",
       "      <td>30</td>\n",
       "      <td>27</td>\n",
       "      <td>17</td>\n",
       "      <td>3</td>\n",
       "      <td>Y</td>\n",
       "    </tr>\n",
       "    <tr>\n",
       "      <th>991344</th>\n",
       "      <td>Male</td>\n",
       "      <td>25</td>\n",
       "      <td>175</td>\n",
       "      <td>60</td>\n",
       "      <td>72.0</td>\n",
       "      <td>1.5</td>\n",
       "      <td>1.0</td>\n",
       "      <td>1</td>\n",
       "      <td>1</td>\n",
       "      <td>119</td>\n",
       "      <td>...</td>\n",
       "      <td>73</td>\n",
       "      <td>53</td>\n",
       "      <td>14.5</td>\n",
       "      <td>1</td>\n",
       "      <td>0.8</td>\n",
       "      <td>21</td>\n",
       "      <td>14</td>\n",
       "      <td>17</td>\n",
       "      <td>1</td>\n",
       "      <td>N</td>\n",
       "    </tr>\n",
       "    <tr>\n",
       "      <th>991345</th>\n",
       "      <td>Male</td>\n",
       "      <td>50</td>\n",
       "      <td>160</td>\n",
       "      <td>70</td>\n",
       "      <td>90.5</td>\n",
       "      <td>1.0</td>\n",
       "      <td>1.5</td>\n",
       "      <td>1</td>\n",
       "      <td>1</td>\n",
       "      <td>133</td>\n",
       "      <td>...</td>\n",
       "      <td>153</td>\n",
       "      <td>163</td>\n",
       "      <td>15.8</td>\n",
       "      <td>1</td>\n",
       "      <td>0.9</td>\n",
       "      <td>24</td>\n",
       "      <td>43</td>\n",
       "      <td>36</td>\n",
       "      <td>3</td>\n",
       "      <td>Y</td>\n",
       "    </tr>\n",
       "  </tbody>\n",
       "</table>\n",
       "<p>5 rows × 24 columns</p>\n",
       "</div>"
      ],
      "text/plain": [
       "           sex  age  height  weight  waistline  sight_left  sight_right  \\\n",
       "991341    Male   45     175      80       92.1         1.5          1.5   \n",
       "991342    Male   35     170      75       86.0         1.0          1.5   \n",
       "991343  Female   40     155      50       68.0         1.0          0.7   \n",
       "991344    Male   25     175      60       72.0         1.5          1.0   \n",
       "991345    Male   50     160      70       90.5         1.0          1.5   \n",
       "\n",
       "        hear_left  hear_right  SBP  ...  LDL_chole  triglyceride  hemoglobin  \\\n",
       "991341          1           1  114  ...        125           132        15.0   \n",
       "991342          1           1  119  ...         84            45        15.8   \n",
       "991343          1           1  110  ...         77           157        14.3   \n",
       "991344          1           1  119  ...         73            53        14.5   \n",
       "991345          1           1  133  ...        153           163        15.8   \n",
       "\n",
       "        urine_protein  serum_creatinine  SGOT_AST  SGOT_ALT  gamma_GTP  \\\n",
       "991341              1               1.0        26        36         27   \n",
       "991342              1               1.1        14        17         15   \n",
       "991343              1               0.8        30        27         17   \n",
       "991344              1               0.8        21        14         17   \n",
       "991345              1               0.9        24        43         36   \n",
       "\n",
       "        SMK_stat_type_cd  DRK_YN  \n",
       "991341                 1       N  \n",
       "991342                 1       N  \n",
       "991343                 3       Y  \n",
       "991344                 1       N  \n",
       "991345                 3       Y  \n",
       "\n",
       "[5 rows x 24 columns]"
      ]
     },
     "execution_count": 4,
     "metadata": {},
     "output_type": "execute_result"
    }
   ],
   "source": [
    "smoking.tail()"
   ]
  },
  {
   "cell_type": "code",
   "execution_count": 5,
   "id": "2baf1910-1f16-42b2-a49b-dffe8bf92a34",
   "metadata": {},
   "outputs": [
    {
     "data": {
      "text/plain": [
       "(991346, 24)"
      ]
     },
     "execution_count": 5,
     "metadata": {},
     "output_type": "execute_result"
    }
   ],
   "source": [
    "smoking.shape\n"
   ]
  },
  {
   "cell_type": "code",
   "execution_count": 6,
   "id": "51128696-db3c-440e-993d-e00a4ece9b6f",
   "metadata": {},
   "outputs": [
    {
     "data": {
      "text/html": [
       "<div>\n",
       "<style scoped>\n",
       "    .dataframe tbody tr th:only-of-type {\n",
       "        vertical-align: middle;\n",
       "    }\n",
       "\n",
       "    .dataframe tbody tr th {\n",
       "        vertical-align: top;\n",
       "    }\n",
       "\n",
       "    .dataframe thead th {\n",
       "        text-align: right;\n",
       "    }\n",
       "</style>\n",
       "<table border=\"1\" class=\"dataframe\">\n",
       "  <thead>\n",
       "    <tr style=\"text-align: right;\">\n",
       "      <th></th>\n",
       "      <th>age</th>\n",
       "      <th>height</th>\n",
       "      <th>weight</th>\n",
       "      <th>waistline</th>\n",
       "      <th>sight_left</th>\n",
       "      <th>sight_right</th>\n",
       "      <th>hear_left</th>\n",
       "      <th>hear_right</th>\n",
       "      <th>SBP</th>\n",
       "      <th>DBP</th>\n",
       "      <th>...</th>\n",
       "      <th>HDL_chole</th>\n",
       "      <th>LDL_chole</th>\n",
       "      <th>triglyceride</th>\n",
       "      <th>hemoglobin</th>\n",
       "      <th>urine_protein</th>\n",
       "      <th>serum_creatinine</th>\n",
       "      <th>SGOT_AST</th>\n",
       "      <th>SGOT_ALT</th>\n",
       "      <th>gamma_GTP</th>\n",
       "      <th>SMK_stat_type_cd</th>\n",
       "    </tr>\n",
       "  </thead>\n",
       "  <tbody>\n",
       "    <tr>\n",
       "      <th>count</th>\n",
       "      <td>991346.000000</td>\n",
       "      <td>991346.000000</td>\n",
       "      <td>991346.000000</td>\n",
       "      <td>991346.000000</td>\n",
       "      <td>991346.000000</td>\n",
       "      <td>991346.000000</td>\n",
       "      <td>991346.000000</td>\n",
       "      <td>991346.000000</td>\n",
       "      <td>991346.000000</td>\n",
       "      <td>991346.000000</td>\n",
       "      <td>...</td>\n",
       "      <td>991346.000000</td>\n",
       "      <td>991346.000000</td>\n",
       "      <td>991346.000000</td>\n",
       "      <td>991346.000000</td>\n",
       "      <td>991346.000000</td>\n",
       "      <td>991346.000000</td>\n",
       "      <td>991346.000000</td>\n",
       "      <td>991346.000000</td>\n",
       "      <td>991346.000000</td>\n",
       "      <td>991346.000000</td>\n",
       "    </tr>\n",
       "    <tr>\n",
       "      <th>mean</th>\n",
       "      <td>47.614491</td>\n",
       "      <td>162.240625</td>\n",
       "      <td>63.284050</td>\n",
       "      <td>81.233358</td>\n",
       "      <td>0.980834</td>\n",
       "      <td>0.978429</td>\n",
       "      <td>1.031495</td>\n",
       "      <td>1.030476</td>\n",
       "      <td>122.432498</td>\n",
       "      <td>76.052627</td>\n",
       "      <td>...</td>\n",
       "      <td>56.936800</td>\n",
       "      <td>113.037692</td>\n",
       "      <td>132.141751</td>\n",
       "      <td>14.229824</td>\n",
       "      <td>1.094224</td>\n",
       "      <td>0.860467</td>\n",
       "      <td>25.989308</td>\n",
       "      <td>25.755051</td>\n",
       "      <td>37.136347</td>\n",
       "      <td>1.608122</td>\n",
       "    </tr>\n",
       "    <tr>\n",
       "      <th>std</th>\n",
       "      <td>14.181339</td>\n",
       "      <td>9.282957</td>\n",
       "      <td>12.514241</td>\n",
       "      <td>11.850323</td>\n",
       "      <td>0.605949</td>\n",
       "      <td>0.604774</td>\n",
       "      <td>0.174650</td>\n",
       "      <td>0.171892</td>\n",
       "      <td>14.543148</td>\n",
       "      <td>9.889365</td>\n",
       "      <td>...</td>\n",
       "      <td>17.238479</td>\n",
       "      <td>35.842812</td>\n",
       "      <td>102.196985</td>\n",
       "      <td>1.584929</td>\n",
       "      <td>0.437724</td>\n",
       "      <td>0.480530</td>\n",
       "      <td>23.493386</td>\n",
       "      <td>26.308599</td>\n",
       "      <td>50.424153</td>\n",
       "      <td>0.818507</td>\n",
       "    </tr>\n",
       "    <tr>\n",
       "      <th>min</th>\n",
       "      <td>20.000000</td>\n",
       "      <td>130.000000</td>\n",
       "      <td>25.000000</td>\n",
       "      <td>8.000000</td>\n",
       "      <td>0.100000</td>\n",
       "      <td>0.100000</td>\n",
       "      <td>1.000000</td>\n",
       "      <td>1.000000</td>\n",
       "      <td>67.000000</td>\n",
       "      <td>32.000000</td>\n",
       "      <td>...</td>\n",
       "      <td>1.000000</td>\n",
       "      <td>1.000000</td>\n",
       "      <td>1.000000</td>\n",
       "      <td>1.000000</td>\n",
       "      <td>1.000000</td>\n",
       "      <td>0.100000</td>\n",
       "      <td>1.000000</td>\n",
       "      <td>1.000000</td>\n",
       "      <td>1.000000</td>\n",
       "      <td>1.000000</td>\n",
       "    </tr>\n",
       "    <tr>\n",
       "      <th>25%</th>\n",
       "      <td>35.000000</td>\n",
       "      <td>155.000000</td>\n",
       "      <td>55.000000</td>\n",
       "      <td>74.100000</td>\n",
       "      <td>0.700000</td>\n",
       "      <td>0.700000</td>\n",
       "      <td>1.000000</td>\n",
       "      <td>1.000000</td>\n",
       "      <td>112.000000</td>\n",
       "      <td>70.000000</td>\n",
       "      <td>...</td>\n",
       "      <td>46.000000</td>\n",
       "      <td>89.000000</td>\n",
       "      <td>73.000000</td>\n",
       "      <td>13.200000</td>\n",
       "      <td>1.000000</td>\n",
       "      <td>0.700000</td>\n",
       "      <td>19.000000</td>\n",
       "      <td>15.000000</td>\n",
       "      <td>16.000000</td>\n",
       "      <td>1.000000</td>\n",
       "    </tr>\n",
       "    <tr>\n",
       "      <th>50%</th>\n",
       "      <td>45.000000</td>\n",
       "      <td>160.000000</td>\n",
       "      <td>60.000000</td>\n",
       "      <td>81.000000</td>\n",
       "      <td>1.000000</td>\n",
       "      <td>1.000000</td>\n",
       "      <td>1.000000</td>\n",
       "      <td>1.000000</td>\n",
       "      <td>120.000000</td>\n",
       "      <td>76.000000</td>\n",
       "      <td>...</td>\n",
       "      <td>55.000000</td>\n",
       "      <td>111.000000</td>\n",
       "      <td>106.000000</td>\n",
       "      <td>14.300000</td>\n",
       "      <td>1.000000</td>\n",
       "      <td>0.800000</td>\n",
       "      <td>23.000000</td>\n",
       "      <td>20.000000</td>\n",
       "      <td>23.000000</td>\n",
       "      <td>1.000000</td>\n",
       "    </tr>\n",
       "    <tr>\n",
       "      <th>75%</th>\n",
       "      <td>60.000000</td>\n",
       "      <td>170.000000</td>\n",
       "      <td>70.000000</td>\n",
       "      <td>87.800000</td>\n",
       "      <td>1.200000</td>\n",
       "      <td>1.200000</td>\n",
       "      <td>1.000000</td>\n",
       "      <td>1.000000</td>\n",
       "      <td>131.000000</td>\n",
       "      <td>82.000000</td>\n",
       "      <td>...</td>\n",
       "      <td>66.000000</td>\n",
       "      <td>135.000000</td>\n",
       "      <td>159.000000</td>\n",
       "      <td>15.400000</td>\n",
       "      <td>1.000000</td>\n",
       "      <td>1.000000</td>\n",
       "      <td>28.000000</td>\n",
       "      <td>29.000000</td>\n",
       "      <td>39.000000</td>\n",
       "      <td>2.000000</td>\n",
       "    </tr>\n",
       "    <tr>\n",
       "      <th>max</th>\n",
       "      <td>85.000000</td>\n",
       "      <td>190.000000</td>\n",
       "      <td>140.000000</td>\n",
       "      <td>999.000000</td>\n",
       "      <td>9.900000</td>\n",
       "      <td>9.900000</td>\n",
       "      <td>2.000000</td>\n",
       "      <td>2.000000</td>\n",
       "      <td>273.000000</td>\n",
       "      <td>185.000000</td>\n",
       "      <td>...</td>\n",
       "      <td>8110.000000</td>\n",
       "      <td>5119.000000</td>\n",
       "      <td>9490.000000</td>\n",
       "      <td>25.000000</td>\n",
       "      <td>6.000000</td>\n",
       "      <td>98.000000</td>\n",
       "      <td>9999.000000</td>\n",
       "      <td>7210.000000</td>\n",
       "      <td>999.000000</td>\n",
       "      <td>3.000000</td>\n",
       "    </tr>\n",
       "  </tbody>\n",
       "</table>\n",
       "<p>8 rows × 22 columns</p>\n",
       "</div>"
      ],
      "text/plain": [
       "                 age         height         weight      waistline  \\\n",
       "count  991346.000000  991346.000000  991346.000000  991346.000000   \n",
       "mean       47.614491     162.240625      63.284050      81.233358   \n",
       "std        14.181339       9.282957      12.514241      11.850323   \n",
       "min        20.000000     130.000000      25.000000       8.000000   \n",
       "25%        35.000000     155.000000      55.000000      74.100000   \n",
       "50%        45.000000     160.000000      60.000000      81.000000   \n",
       "75%        60.000000     170.000000      70.000000      87.800000   \n",
       "max        85.000000     190.000000     140.000000     999.000000   \n",
       "\n",
       "          sight_left    sight_right      hear_left     hear_right  \\\n",
       "count  991346.000000  991346.000000  991346.000000  991346.000000   \n",
       "mean        0.980834       0.978429       1.031495       1.030476   \n",
       "std         0.605949       0.604774       0.174650       0.171892   \n",
       "min         0.100000       0.100000       1.000000       1.000000   \n",
       "25%         0.700000       0.700000       1.000000       1.000000   \n",
       "50%         1.000000       1.000000       1.000000       1.000000   \n",
       "75%         1.200000       1.200000       1.000000       1.000000   \n",
       "max         9.900000       9.900000       2.000000       2.000000   \n",
       "\n",
       "                 SBP            DBP  ...      HDL_chole      LDL_chole  \\\n",
       "count  991346.000000  991346.000000  ...  991346.000000  991346.000000   \n",
       "mean      122.432498      76.052627  ...      56.936800     113.037692   \n",
       "std        14.543148       9.889365  ...      17.238479      35.842812   \n",
       "min        67.000000      32.000000  ...       1.000000       1.000000   \n",
       "25%       112.000000      70.000000  ...      46.000000      89.000000   \n",
       "50%       120.000000      76.000000  ...      55.000000     111.000000   \n",
       "75%       131.000000      82.000000  ...      66.000000     135.000000   \n",
       "max       273.000000     185.000000  ...    8110.000000    5119.000000   \n",
       "\n",
       "        triglyceride     hemoglobin  urine_protein  serum_creatinine  \\\n",
       "count  991346.000000  991346.000000  991346.000000     991346.000000   \n",
       "mean      132.141751      14.229824       1.094224          0.860467   \n",
       "std       102.196985       1.584929       0.437724          0.480530   \n",
       "min         1.000000       1.000000       1.000000          0.100000   \n",
       "25%        73.000000      13.200000       1.000000          0.700000   \n",
       "50%       106.000000      14.300000       1.000000          0.800000   \n",
       "75%       159.000000      15.400000       1.000000          1.000000   \n",
       "max      9490.000000      25.000000       6.000000         98.000000   \n",
       "\n",
       "            SGOT_AST       SGOT_ALT      gamma_GTP  SMK_stat_type_cd  \n",
       "count  991346.000000  991346.000000  991346.000000     991346.000000  \n",
       "mean       25.989308      25.755051      37.136347          1.608122  \n",
       "std        23.493386      26.308599      50.424153          0.818507  \n",
       "min         1.000000       1.000000       1.000000          1.000000  \n",
       "25%        19.000000      15.000000      16.000000          1.000000  \n",
       "50%        23.000000      20.000000      23.000000          1.000000  \n",
       "75%        28.000000      29.000000      39.000000          2.000000  \n",
       "max      9999.000000    7210.000000     999.000000          3.000000  \n",
       "\n",
       "[8 rows x 22 columns]"
      ]
     },
     "execution_count": 6,
     "metadata": {},
     "output_type": "execute_result"
    }
   ],
   "source": [
    "smoking.describe()"
   ]
  },
  {
   "cell_type": "markdown",
   "id": "39710102-ddc0-42e0-8821-8ce3f8b3f4cc",
   "metadata": {},
   "source": [
    "**Looking at the data, we want to predict whether a particular person is a smoker/drinker are not. We want to predict the variable DRK_YN from the given variables.**\n"
   ]
  },
  {
   "cell_type": "code",
   "execution_count": 7,
   "id": "13aa5d02-4143-4fc1-ac07-30e48e34a199",
   "metadata": {},
   "outputs": [
    {
     "data": {
      "text/plain": [
       "sex                    2\n",
       "age                   14\n",
       "height                13\n",
       "weight                24\n",
       "waistline            737\n",
       "sight_left            24\n",
       "sight_right           24\n",
       "hear_left              2\n",
       "hear_right             2\n",
       "SBP                  171\n",
       "DBP                  127\n",
       "BLDS                 498\n",
       "tot_chole            474\n",
       "HDL_chole            223\n",
       "LDL_chole            432\n",
       "triglyceride        1657\n",
       "hemoglobin           190\n",
       "urine_protein          6\n",
       "serum_creatinine     183\n",
       "SGOT_AST             568\n",
       "SGOT_ALT             594\n",
       "gamma_GTP            940\n",
       "SMK_stat_type_cd       3\n",
       "DRK_YN                 2\n",
       "dtype: int64"
      ]
     },
     "execution_count": 7,
     "metadata": {},
     "output_type": "execute_result"
    }
   ],
   "source": [
    "smoking.nunique()\n"
   ]
  },
  {
   "cell_type": "markdown",
   "id": "d7435eff-2b7a-4c81-9a9e-c389045bc5d5",
   "metadata": {},
   "source": [
    "### Cleaning the data"
   ]
  },
  {
   "cell_type": "code",
   "execution_count": 8,
   "id": "10d1f154-5622-4767-89eb-0eff73808d92",
   "metadata": {},
   "outputs": [
    {
     "data": {
      "text/plain": [
       "sex                 0\n",
       "age                 0\n",
       "height              0\n",
       "weight              0\n",
       "waistline           0\n",
       "sight_left          0\n",
       "sight_right         0\n",
       "hear_left           0\n",
       "hear_right          0\n",
       "SBP                 0\n",
       "DBP                 0\n",
       "BLDS                0\n",
       "tot_chole           0\n",
       "HDL_chole           0\n",
       "LDL_chole           0\n",
       "triglyceride        0\n",
       "hemoglobin          0\n",
       "urine_protein       0\n",
       "serum_creatinine    0\n",
       "SGOT_AST            0\n",
       "SGOT_ALT            0\n",
       "gamma_GTP           0\n",
       "SMK_stat_type_cd    0\n",
       "DRK_YN              0\n",
       "dtype: int64"
      ]
     },
     "execution_count": 8,
     "metadata": {},
     "output_type": "execute_result"
    }
   ],
   "source": [
    "smoking.isnull().sum()"
   ]
  },
  {
   "cell_type": "markdown",
   "id": "52b471e7-9957-42e1-a013-d3783160710e",
   "metadata": {},
   "source": [
    "**No null values<br>\n",
    "Now we shall drop the redundant data<br>\n",
    "Height,weight,waistline,sight_left,sight_right,hear_left,hear_right are not required**"
   ]
  },
  {
   "cell_type": "code",
   "execution_count": 9,
   "id": "bc4cf5cb-c139-4be9-bed9-0fa5cebdbb1b",
   "metadata": {},
   "outputs": [],
   "source": [
    "smoking= smoking.drop(['height','weight','waistline','sight_left','sight_right','hear_left','hear_right'],axis=1)"
   ]
  },
  {
   "cell_type": "code",
   "execution_count": 10,
   "id": "831406fc-addd-4975-becc-6a960c8f2f15",
   "metadata": {},
   "outputs": [
    {
     "data": {
      "text/html": [
       "<div>\n",
       "<style scoped>\n",
       "    .dataframe tbody tr th:only-of-type {\n",
       "        vertical-align: middle;\n",
       "    }\n",
       "\n",
       "    .dataframe tbody tr th {\n",
       "        vertical-align: top;\n",
       "    }\n",
       "\n",
       "    .dataframe thead th {\n",
       "        text-align: right;\n",
       "    }\n",
       "</style>\n",
       "<table border=\"1\" class=\"dataframe\">\n",
       "  <thead>\n",
       "    <tr style=\"text-align: right;\">\n",
       "      <th></th>\n",
       "      <th>sex</th>\n",
       "      <th>age</th>\n",
       "      <th>SBP</th>\n",
       "      <th>DBP</th>\n",
       "      <th>BLDS</th>\n",
       "      <th>tot_chole</th>\n",
       "      <th>HDL_chole</th>\n",
       "      <th>LDL_chole</th>\n",
       "      <th>triglyceride</th>\n",
       "      <th>hemoglobin</th>\n",
       "      <th>urine_protein</th>\n",
       "      <th>serum_creatinine</th>\n",
       "      <th>SGOT_AST</th>\n",
       "      <th>SGOT_ALT</th>\n",
       "      <th>gamma_GTP</th>\n",
       "      <th>SMK_stat_type_cd</th>\n",
       "      <th>DRK_YN</th>\n",
       "    </tr>\n",
       "  </thead>\n",
       "  <tbody>\n",
       "    <tr>\n",
       "      <th>0</th>\n",
       "      <td>Male</td>\n",
       "      <td>35</td>\n",
       "      <td>120</td>\n",
       "      <td>80</td>\n",
       "      <td>99</td>\n",
       "      <td>193</td>\n",
       "      <td>48</td>\n",
       "      <td>126</td>\n",
       "      <td>92</td>\n",
       "      <td>17.1</td>\n",
       "      <td>1</td>\n",
       "      <td>1.0</td>\n",
       "      <td>21</td>\n",
       "      <td>35</td>\n",
       "      <td>40</td>\n",
       "      <td>1</td>\n",
       "      <td>Y</td>\n",
       "    </tr>\n",
       "    <tr>\n",
       "      <th>1</th>\n",
       "      <td>Male</td>\n",
       "      <td>30</td>\n",
       "      <td>130</td>\n",
       "      <td>82</td>\n",
       "      <td>106</td>\n",
       "      <td>228</td>\n",
       "      <td>55</td>\n",
       "      <td>148</td>\n",
       "      <td>121</td>\n",
       "      <td>15.8</td>\n",
       "      <td>1</td>\n",
       "      <td>0.9</td>\n",
       "      <td>20</td>\n",
       "      <td>36</td>\n",
       "      <td>27</td>\n",
       "      <td>3</td>\n",
       "      <td>N</td>\n",
       "    </tr>\n",
       "    <tr>\n",
       "      <th>2</th>\n",
       "      <td>Male</td>\n",
       "      <td>40</td>\n",
       "      <td>120</td>\n",
       "      <td>70</td>\n",
       "      <td>98</td>\n",
       "      <td>136</td>\n",
       "      <td>41</td>\n",
       "      <td>74</td>\n",
       "      <td>104</td>\n",
       "      <td>15.8</td>\n",
       "      <td>1</td>\n",
       "      <td>0.9</td>\n",
       "      <td>47</td>\n",
       "      <td>32</td>\n",
       "      <td>68</td>\n",
       "      <td>1</td>\n",
       "      <td>N</td>\n",
       "    </tr>\n",
       "    <tr>\n",
       "      <th>3</th>\n",
       "      <td>Male</td>\n",
       "      <td>50</td>\n",
       "      <td>145</td>\n",
       "      <td>87</td>\n",
       "      <td>95</td>\n",
       "      <td>201</td>\n",
       "      <td>76</td>\n",
       "      <td>104</td>\n",
       "      <td>106</td>\n",
       "      <td>17.6</td>\n",
       "      <td>1</td>\n",
       "      <td>1.1</td>\n",
       "      <td>29</td>\n",
       "      <td>34</td>\n",
       "      <td>18</td>\n",
       "      <td>1</td>\n",
       "      <td>N</td>\n",
       "    </tr>\n",
       "    <tr>\n",
       "      <th>4</th>\n",
       "      <td>Male</td>\n",
       "      <td>50</td>\n",
       "      <td>138</td>\n",
       "      <td>82</td>\n",
       "      <td>101</td>\n",
       "      <td>199</td>\n",
       "      <td>61</td>\n",
       "      <td>117</td>\n",
       "      <td>104</td>\n",
       "      <td>13.8</td>\n",
       "      <td>1</td>\n",
       "      <td>0.8</td>\n",
       "      <td>19</td>\n",
       "      <td>12</td>\n",
       "      <td>25</td>\n",
       "      <td>1</td>\n",
       "      <td>N</td>\n",
       "    </tr>\n",
       "  </tbody>\n",
       "</table>\n",
       "</div>"
      ],
      "text/plain": [
       "    sex  age  SBP  DBP  BLDS  tot_chole  HDL_chole  LDL_chole  triglyceride  \\\n",
       "0  Male   35  120   80    99        193         48        126            92   \n",
       "1  Male   30  130   82   106        228         55        148           121   \n",
       "2  Male   40  120   70    98        136         41         74           104   \n",
       "3  Male   50  145   87    95        201         76        104           106   \n",
       "4  Male   50  138   82   101        199         61        117           104   \n",
       "\n",
       "   hemoglobin  urine_protein  serum_creatinine  SGOT_AST  SGOT_ALT  gamma_GTP  \\\n",
       "0        17.1              1               1.0        21        35         40   \n",
       "1        15.8              1               0.9        20        36         27   \n",
       "2        15.8              1               0.9        47        32         68   \n",
       "3        17.6              1               1.1        29        34         18   \n",
       "4        13.8              1               0.8        19        12         25   \n",
       "\n",
       "   SMK_stat_type_cd DRK_YN  \n",
       "0                 1      Y  \n",
       "1                 3      N  \n",
       "2                 1      N  \n",
       "3                 1      N  \n",
       "4                 1      N  "
      ]
     },
     "execution_count": 10,
     "metadata": {},
     "output_type": "execute_result"
    }
   ],
   "source": [
    "smoking.head()"
   ]
  },
  {
   "cell_type": "markdown",
   "id": "a8fb1dda-6d9d-492f-8a2d-fed96af88666",
   "metadata": {},
   "source": [
    "**Now we shall remove the outliers.<br>\n",
    "Looking at the data manually, i feel the best variable to look for outliers in the data is tryglyceride as it has 1657 unique values and it can be very high in some people which might affect the data.**"
   ]
  },
  {
   "cell_type": "code",
   "execution_count": 11,
   "id": "402ea9a5-02bd-491c-9ecc-0edf7cb33eeb",
   "metadata": {},
   "outputs": [
    {
     "name": "stdout",
     "output_type": "stream",
     "text": [
      "540.9296902769296 -276.6461888556296\n"
     ]
    }
   ],
   "source": [
    "up=smoking['triglyceride'].mean()+4*smoking['triglyceride'].std()\n",
    "low=smoking['triglyceride'].mean()-4*smoking['triglyceride'].std()\n",
    "print(up,low)\n"
   ]
  },
  {
   "cell_type": "code",
   "execution_count": 12,
   "id": "42abe449-ff8a-4c8d-a146-832b9f9ef583",
   "metadata": {},
   "outputs": [],
   "source": [
    "#we shall remove the outliers now\n",
    "#as it cant be negative\n",
    "smoking=smoking.loc[(smoking['triglyceride']<up)]"
   ]
  },
  {
   "cell_type": "code",
   "execution_count": 13,
   "id": "56e6f657-06b4-44bb-b78a-70a873cce1a9",
   "metadata": {},
   "outputs": [
    {
     "data": {
      "text/html": [
       "<div>\n",
       "<style scoped>\n",
       "    .dataframe tbody tr th:only-of-type {\n",
       "        vertical-align: middle;\n",
       "    }\n",
       "\n",
       "    .dataframe tbody tr th {\n",
       "        vertical-align: top;\n",
       "    }\n",
       "\n",
       "    .dataframe thead th {\n",
       "        text-align: right;\n",
       "    }\n",
       "</style>\n",
       "<table border=\"1\" class=\"dataframe\">\n",
       "  <thead>\n",
       "    <tr style=\"text-align: right;\">\n",
       "      <th></th>\n",
       "      <th>sex</th>\n",
       "      <th>age</th>\n",
       "      <th>SBP</th>\n",
       "      <th>DBP</th>\n",
       "      <th>BLDS</th>\n",
       "      <th>tot_chole</th>\n",
       "      <th>HDL_chole</th>\n",
       "      <th>LDL_chole</th>\n",
       "      <th>triglyceride</th>\n",
       "      <th>hemoglobin</th>\n",
       "      <th>urine_protein</th>\n",
       "      <th>serum_creatinine</th>\n",
       "      <th>SGOT_AST</th>\n",
       "      <th>SGOT_ALT</th>\n",
       "      <th>gamma_GTP</th>\n",
       "      <th>SMK_stat_type_cd</th>\n",
       "      <th>DRK_YN</th>\n",
       "    </tr>\n",
       "  </thead>\n",
       "  <tbody>\n",
       "    <tr>\n",
       "      <th>0</th>\n",
       "      <td>Male</td>\n",
       "      <td>35</td>\n",
       "      <td>120</td>\n",
       "      <td>80</td>\n",
       "      <td>99</td>\n",
       "      <td>193</td>\n",
       "      <td>48</td>\n",
       "      <td>126</td>\n",
       "      <td>92</td>\n",
       "      <td>17.1</td>\n",
       "      <td>1</td>\n",
       "      <td>1.0</td>\n",
       "      <td>21</td>\n",
       "      <td>35</td>\n",
       "      <td>40</td>\n",
       "      <td>1</td>\n",
       "      <td>Y</td>\n",
       "    </tr>\n",
       "    <tr>\n",
       "      <th>1</th>\n",
       "      <td>Male</td>\n",
       "      <td>30</td>\n",
       "      <td>130</td>\n",
       "      <td>82</td>\n",
       "      <td>106</td>\n",
       "      <td>228</td>\n",
       "      <td>55</td>\n",
       "      <td>148</td>\n",
       "      <td>121</td>\n",
       "      <td>15.8</td>\n",
       "      <td>1</td>\n",
       "      <td>0.9</td>\n",
       "      <td>20</td>\n",
       "      <td>36</td>\n",
       "      <td>27</td>\n",
       "      <td>3</td>\n",
       "      <td>N</td>\n",
       "    </tr>\n",
       "    <tr>\n",
       "      <th>2</th>\n",
       "      <td>Male</td>\n",
       "      <td>40</td>\n",
       "      <td>120</td>\n",
       "      <td>70</td>\n",
       "      <td>98</td>\n",
       "      <td>136</td>\n",
       "      <td>41</td>\n",
       "      <td>74</td>\n",
       "      <td>104</td>\n",
       "      <td>15.8</td>\n",
       "      <td>1</td>\n",
       "      <td>0.9</td>\n",
       "      <td>47</td>\n",
       "      <td>32</td>\n",
       "      <td>68</td>\n",
       "      <td>1</td>\n",
       "      <td>N</td>\n",
       "    </tr>\n",
       "    <tr>\n",
       "      <th>3</th>\n",
       "      <td>Male</td>\n",
       "      <td>50</td>\n",
       "      <td>145</td>\n",
       "      <td>87</td>\n",
       "      <td>95</td>\n",
       "      <td>201</td>\n",
       "      <td>76</td>\n",
       "      <td>104</td>\n",
       "      <td>106</td>\n",
       "      <td>17.6</td>\n",
       "      <td>1</td>\n",
       "      <td>1.1</td>\n",
       "      <td>29</td>\n",
       "      <td>34</td>\n",
       "      <td>18</td>\n",
       "      <td>1</td>\n",
       "      <td>N</td>\n",
       "    </tr>\n",
       "    <tr>\n",
       "      <th>4</th>\n",
       "      <td>Male</td>\n",
       "      <td>50</td>\n",
       "      <td>138</td>\n",
       "      <td>82</td>\n",
       "      <td>101</td>\n",
       "      <td>199</td>\n",
       "      <td>61</td>\n",
       "      <td>117</td>\n",
       "      <td>104</td>\n",
       "      <td>13.8</td>\n",
       "      <td>1</td>\n",
       "      <td>0.8</td>\n",
       "      <td>19</td>\n",
       "      <td>12</td>\n",
       "      <td>25</td>\n",
       "      <td>1</td>\n",
       "      <td>N</td>\n",
       "    </tr>\n",
       "  </tbody>\n",
       "</table>\n",
       "</div>"
      ],
      "text/plain": [
       "    sex  age  SBP  DBP  BLDS  tot_chole  HDL_chole  LDL_chole  triglyceride  \\\n",
       "0  Male   35  120   80    99        193         48        126            92   \n",
       "1  Male   30  130   82   106        228         55        148           121   \n",
       "2  Male   40  120   70    98        136         41         74           104   \n",
       "3  Male   50  145   87    95        201         76        104           106   \n",
       "4  Male   50  138   82   101        199         61        117           104   \n",
       "\n",
       "   hemoglobin  urine_protein  serum_creatinine  SGOT_AST  SGOT_ALT  gamma_GTP  \\\n",
       "0        17.1              1               1.0        21        35         40   \n",
       "1        15.8              1               0.9        20        36         27   \n",
       "2        15.8              1               0.9        47        32         68   \n",
       "3        17.6              1               1.1        29        34         18   \n",
       "4        13.8              1               0.8        19        12         25   \n",
       "\n",
       "   SMK_stat_type_cd DRK_YN  \n",
       "0                 1      Y  \n",
       "1                 3      N  \n",
       "2                 1      N  \n",
       "3                 1      N  \n",
       "4                 1      N  "
      ]
     },
     "execution_count": 13,
     "metadata": {},
     "output_type": "execute_result"
    }
   ],
   "source": [
    "smoking.head()"
   ]
  },
  {
   "cell_type": "markdown",
   "id": "beabd037-d23d-4427-b64d-7b479488c1ff",
   "metadata": {},
   "source": [
    "**Now we shall list the rows in which DRK_YN is a Y(list all the people who are actually smokers and drinkers)**"
   ]
  },
  {
   "cell_type": "code",
   "execution_count": 14,
   "id": "b74bc16b-fd1c-4c56-94c6-0789026048d6",
   "metadata": {},
   "outputs": [],
   "source": [
    "tr_smoke=smoking.loc[smoking['DRK_YN'] == 'Y']"
   ]
  },
  {
   "cell_type": "code",
   "execution_count": 15,
   "id": "f7245b53-cfd7-4b27-8627-e2fe21196745",
   "metadata": {},
   "outputs": [],
   "source": [
    "no_smoke=smoking.loc[smoking['DRK_YN'] == 'N']"
   ]
  },
  {
   "cell_type": "code",
   "execution_count": 16,
   "id": "db011d1e-99a9-4ac1-a579-98729a4e5da6",
   "metadata": {},
   "outputs": [
    {
     "data": {
      "text/html": [
       "<div>\n",
       "<style scoped>\n",
       "    .dataframe tbody tr th:only-of-type {\n",
       "        vertical-align: middle;\n",
       "    }\n",
       "\n",
       "    .dataframe tbody tr th {\n",
       "        vertical-align: top;\n",
       "    }\n",
       "\n",
       "    .dataframe thead th {\n",
       "        text-align: right;\n",
       "    }\n",
       "</style>\n",
       "<table border=\"1\" class=\"dataframe\">\n",
       "  <thead>\n",
       "    <tr style=\"text-align: right;\">\n",
       "      <th></th>\n",
       "      <th>sex</th>\n",
       "      <th>age</th>\n",
       "      <th>SBP</th>\n",
       "      <th>DBP</th>\n",
       "      <th>BLDS</th>\n",
       "      <th>tot_chole</th>\n",
       "      <th>HDL_chole</th>\n",
       "      <th>LDL_chole</th>\n",
       "      <th>triglyceride</th>\n",
       "      <th>hemoglobin</th>\n",
       "      <th>urine_protein</th>\n",
       "      <th>serum_creatinine</th>\n",
       "      <th>SGOT_AST</th>\n",
       "      <th>SGOT_ALT</th>\n",
       "      <th>gamma_GTP</th>\n",
       "      <th>SMK_stat_type_cd</th>\n",
       "      <th>DRK_YN</th>\n",
       "    </tr>\n",
       "  </thead>\n",
       "  <tbody>\n",
       "    <tr>\n",
       "      <th>1</th>\n",
       "      <td>Male</td>\n",
       "      <td>30</td>\n",
       "      <td>130</td>\n",
       "      <td>82</td>\n",
       "      <td>106</td>\n",
       "      <td>228</td>\n",
       "      <td>55</td>\n",
       "      <td>148</td>\n",
       "      <td>121</td>\n",
       "      <td>15.8</td>\n",
       "      <td>1</td>\n",
       "      <td>0.9</td>\n",
       "      <td>20</td>\n",
       "      <td>36</td>\n",
       "      <td>27</td>\n",
       "      <td>3</td>\n",
       "      <td>N</td>\n",
       "    </tr>\n",
       "    <tr>\n",
       "      <th>2</th>\n",
       "      <td>Male</td>\n",
       "      <td>40</td>\n",
       "      <td>120</td>\n",
       "      <td>70</td>\n",
       "      <td>98</td>\n",
       "      <td>136</td>\n",
       "      <td>41</td>\n",
       "      <td>74</td>\n",
       "      <td>104</td>\n",
       "      <td>15.8</td>\n",
       "      <td>1</td>\n",
       "      <td>0.9</td>\n",
       "      <td>47</td>\n",
       "      <td>32</td>\n",
       "      <td>68</td>\n",
       "      <td>1</td>\n",
       "      <td>N</td>\n",
       "    </tr>\n",
       "    <tr>\n",
       "      <th>3</th>\n",
       "      <td>Male</td>\n",
       "      <td>50</td>\n",
       "      <td>145</td>\n",
       "      <td>87</td>\n",
       "      <td>95</td>\n",
       "      <td>201</td>\n",
       "      <td>76</td>\n",
       "      <td>104</td>\n",
       "      <td>106</td>\n",
       "      <td>17.6</td>\n",
       "      <td>1</td>\n",
       "      <td>1.1</td>\n",
       "      <td>29</td>\n",
       "      <td>34</td>\n",
       "      <td>18</td>\n",
       "      <td>1</td>\n",
       "      <td>N</td>\n",
       "    </tr>\n",
       "    <tr>\n",
       "      <th>4</th>\n",
       "      <td>Male</td>\n",
       "      <td>50</td>\n",
       "      <td>138</td>\n",
       "      <td>82</td>\n",
       "      <td>101</td>\n",
       "      <td>199</td>\n",
       "      <td>61</td>\n",
       "      <td>117</td>\n",
       "      <td>104</td>\n",
       "      <td>13.8</td>\n",
       "      <td>1</td>\n",
       "      <td>0.8</td>\n",
       "      <td>19</td>\n",
       "      <td>12</td>\n",
       "      <td>25</td>\n",
       "      <td>1</td>\n",
       "      <td>N</td>\n",
       "    </tr>\n",
       "    <tr>\n",
       "      <th>6</th>\n",
       "      <td>Female</td>\n",
       "      <td>45</td>\n",
       "      <td>101</td>\n",
       "      <td>58</td>\n",
       "      <td>89</td>\n",
       "      <td>196</td>\n",
       "      <td>66</td>\n",
       "      <td>115</td>\n",
       "      <td>75</td>\n",
       "      <td>12.3</td>\n",
       "      <td>1</td>\n",
       "      <td>0.8</td>\n",
       "      <td>19</td>\n",
       "      <td>12</td>\n",
       "      <td>12</td>\n",
       "      <td>1</td>\n",
       "      <td>N</td>\n",
       "    </tr>\n",
       "  </tbody>\n",
       "</table>\n",
       "</div>"
      ],
      "text/plain": [
       "      sex  age  SBP  DBP  BLDS  tot_chole  HDL_chole  LDL_chole  triglyceride  \\\n",
       "1    Male   30  130   82   106        228         55        148           121   \n",
       "2    Male   40  120   70    98        136         41         74           104   \n",
       "3    Male   50  145   87    95        201         76        104           106   \n",
       "4    Male   50  138   82   101        199         61        117           104   \n",
       "6  Female   45  101   58    89        196         66        115            75   \n",
       "\n",
       "   hemoglobin  urine_protein  serum_creatinine  SGOT_AST  SGOT_ALT  gamma_GTP  \\\n",
       "1        15.8              1               0.9        20        36         27   \n",
       "2        15.8              1               0.9        47        32         68   \n",
       "3        17.6              1               1.1        29        34         18   \n",
       "4        13.8              1               0.8        19        12         25   \n",
       "6        12.3              1               0.8        19        12         12   \n",
       "\n",
       "   SMK_stat_type_cd DRK_YN  \n",
       "1                 3      N  \n",
       "2                 1      N  \n",
       "3                 1      N  \n",
       "4                 1      N  \n",
       "6                 1      N  "
      ]
     },
     "execution_count": 16,
     "metadata": {},
     "output_type": "execute_result"
    }
   ],
   "source": [
    "no_smoke.head()"
   ]
  },
  {
   "cell_type": "markdown",
   "id": "75d1feb6-9e6f-4698-a5b5-ca103d197ba7",
   "metadata": {},
   "source": [
    "**tr_smoke represents the data of people who actually smoke or drink**"
   ]
  },
  {
   "cell_type": "code",
   "execution_count": 17,
   "id": "0760eb2b-59da-4dc2-92b6-8148bdf7e619",
   "metadata": {},
   "outputs": [],
   "source": [
    "#now lets see  what variables actually matter."
   ]
  },
  {
   "cell_type": "code",
   "execution_count": 18,
   "id": "c76a31c7-1060-4376-9a41-385a5e521eb1",
   "metadata": {},
   "outputs": [
    {
     "data": {
      "image/png": "[encoded data removed]",
      "text/plain": [
       "<Figure size 500x500 with 1 Axes>"
      ]
     },
     "metadata": {},
     "output_type": "display_data"
    }
   ],
   "source": [
    "#age\n",
    "sns.displot(data=smoking, x='age')\n",
    "plt.show()"
   ]
  },
  {
   "cell_type": "code",
   "execution_count": 19,
   "id": "0d489568-bda0-4ed4-8040-199e925c9fbd",
   "metadata": {},
   "outputs": [
    {
     "data": {
      "image/png": "[encoded data removed]",
      "text/plain": [
       "<Figure size 500x500 with 1 Axes>"
      ]
     },
     "metadata": {},
     "output_type": "display_data"
    }
   ],
   "source": [
    "sns.displot(data=no_smoke, x='age')\n",
    "plt.show()"
   ]
  },
  {
   "cell_type": "code",
   "execution_count": 20,
   "id": "3dbe054b-1e2e-4d6d-b39e-fec36c623f87",
   "metadata": {},
   "outputs": [
    {
     "data": {
      "image/png": "[encoded data removed]",
      "text/plain": [
       "<Figure size 500x500 with 1 Axes>"
      ]
     },
     "metadata": {},
     "output_type": "display_data"
    }
   ],
   "source": [
    "sns.displot(data=tr_smoke, x='age')\n",
    "plt.show()"
   ]
  },
  {
   "cell_type": "markdown",
   "id": "8f2bf976-c3e5-4126-8902-854f2f272eda",
   "metadata": {},
   "source": [
    "**There is not much difference between the plots of people who smoke vs ppl who dont smoke. So age in not an important variable.**"
   ]
  },
  {
   "cell_type": "code",
   "execution_count": 21,
   "id": "730ce0ed-5a41-49d2-b5d5-9c56b0666603",
   "metadata": {},
   "outputs": [
    {
     "data": {
      "text/plain": [
       "<Axes: xlabel='sex', ylabel='count'>"
      ]
     },
     "execution_count": 21,
     "metadata": {},
     "output_type": "execute_result"
    },
    {
     "data": {
      "image/png": "[encoded data removed]",
      "text/plain": [
       "<Figure size 640x480 with 1 Axes>"
      ]
     },
     "metadata": {},
     "output_type": "display_data"
    }
   ],
   "source": [
    "#sex\n",
    "#checking the ratio in true smokers\n",
    "sns.countplot(x='sex',data=tr_smoke)"
   ]
  },
  {
   "cell_type": "code",
   "execution_count": 22,
   "id": "56b8c89d-68b8-4c05-84b8-44dbbc1b10a2",
   "metadata": {},
   "outputs": [
    {
     "data": {
      "text/plain": [
       "<Axes: xlabel='sex', ylabel='count'>"
      ]
     },
     "execution_count": 22,
     "metadata": {},
     "output_type": "execute_result"
    },
    {
     "data": {
      "image/png": "[encoded data removed]",
      "text/plain": [
       "<Figure size 640x480 with 1 Axes>"
      ]
     },
     "metadata": {},
     "output_type": "display_data"
    }
   ],
   "source": [
    "# we might be tempted to conclude that male has a higher chance to be a smoker but we have to check the overall population distribution.\n",
    "sns.countplot(x='sex',data=smoking)"
   ]
  },
  {
   "cell_type": "markdown",
   "id": "5bc630b1-04d5-48e1-aa52-4f620160b5fa",
   "metadata": {},
   "source": [
    "**As the sex ratio is nearly 1:1 in the overall popluation and there is a higher percentage of men(nearly double) in the substance abuse population,we conclude that men are more vulnerable to substance abuse.**"
   ]
  },
  {
   "cell_type": "code",
   "execution_count": 23,
   "id": "4b00f320-d5a7-465e-b2ff-b24f1aabccf4",
   "metadata": {},
   "outputs": [
    {
     "data": {
      "text/plain": [
       "<Axes: xlabel='LDL_chole', ylabel='Count'>"
      ]
     },
     "execution_count": 23,
     "metadata": {},
     "output_type": "execute_result"
    },
    {
     "data": {
      "image/png": "[encoded data removed]",
      "text/plain": [
       "<Figure size 640x480 with 1 Axes>"
      ]
     },
     "metadata": {},
     "output_type": "display_data"
    }
   ],
   "source": [
    "sns.histplot(x='LDL_chole',data=no_smoke)"
   ]
  },
  {
   "cell_type": "code",
   "execution_count": 24,
   "id": "9dc176cb-53b5-47a6-b20b-f84d33c74c29",
   "metadata": {},
   "outputs": [
    {
     "data": {
      "text/plain": [
       "<Axes: xlabel='LDL_chole', ylabel='Count'>"
      ]
     },
     "execution_count": 24,
     "metadata": {},
     "output_type": "execute_result"
    },
    {
     "data": {
      "image/png": "[encoded data removed]",
      "text/plain": [
       "<Figure size 640x480 with 1 Axes>"
      ]
     },
     "metadata": {},
     "output_type": "display_data"
    }
   ],
   "source": [
    "sns.histplot(x='LDL_chole',data=tr_smoke)"
   ]
  },
  {
   "cell_type": "code",
   "execution_count": 25,
   "id": "b46223c6-1ec4-4af5-9148-c27d72ddd6f1",
   "metadata": {},
   "outputs": [
    {
     "data": {
      "text/plain": [
       "<Axes: xlabel='HDL_chole', ylabel='Count'>"
      ]
     },
     "execution_count": 25,
     "metadata": {},
     "output_type": "execute_result"
    },
    {
     "data": {
      "image/png": "[encoded data removed]",
      "text/plain": [
       "<Figure size 640x480 with 1 Axes>"
      ]
     },
     "metadata": {},
     "output_type": "display_data"
    }
   ],
   "source": [
    "sns.histplot(x='HDL_chole',data=tr_smoke)"
   ]
  },
  {
   "cell_type": "code",
   "execution_count": 26,
   "id": "5c9b2711-9539-4afa-a78e-e6a6230a1240",
   "metadata": {},
   "outputs": [
    {
     "data": {
      "text/plain": [
       "<Axes: xlabel='HDL_chole', ylabel='Count'>"
      ]
     },
     "execution_count": 26,
     "metadata": {},
     "output_type": "execute_result"
    },
    {
     "data": {
      "image/png": "[encoded data removed]",
      "text/plain": [
       "<Figure size 640x480 with 1 Axes>"
      ]
     },
     "metadata": {},
     "output_type": "display_data"
    }
   ],
   "source": [
    "sns.histplot(x='HDL_chole',data=no_smoke)"
   ]
  },
  {
   "cell_type": "code",
   "execution_count": 27,
   "id": "64ac1c50-daab-4334-852f-0349ce416295",
   "metadata": {},
   "outputs": [
    {
     "data": {
      "text/plain": [
       "<seaborn.axisgrid.FacetGrid at 0x228c5eb1110>"
      ]
     },
     "execution_count": 27,
     "metadata": {},
     "output_type": "execute_result"
    },
    {
     "data": {
      "image/png": "[encoded data removed]",
      "text/plain": [
       "<Figure size 500x500 with 1 Axes>"
      ]
     },
     "metadata": {},
     "output_type": "display_data"
    }
   ],
   "source": [
    "sns.lmplot(x='tot_chole', y='HDL_chole', data=tr_smoke)\n"
   ]
  },
  {
   "cell_type": "code",
   "execution_count": 28,
   "id": "2affa018-b621-4a3e-9975-f34c95e3ba29",
   "metadata": {},
   "outputs": [
    {
     "data": {
      "text/plain": [
       "<seaborn.axisgrid.FacetGrid at 0x228ff92ab50>"
      ]
     },
     "execution_count": 28,
     "metadata": {},
     "output_type": "execute_result"
    },
    {
     "data": {
      "image/png": "[encoded data removed]",
      "text/plain": [
       "<Figure size 500x500 with 1 Axes>"
      ]
     },
     "metadata": {},
     "output_type": "display_data"
    }
   ],
   "source": [
    "sns.lmplot(x='tot_chole', y='LDL_chole', data=smoking)\n"
   ]
  },
  {
   "cell_type": "markdown",
   "id": "2602b439-3bda-4234-a27c-ff5bdf46109d",
   "metadata": {},
   "source": [
    "**Both the HDL and LDL levels are highers for people who did substance abuse.\n",
    "The total cholestrol levels are significantly higher is people who did substance abuse.\n",
    "LDL cholestrol is more directly related to total cholestrol than HDL cholestrol.**\n"
   ]
  },
  {
   "cell_type": "code",
   "execution_count": 29,
   "id": "005ea54a-d8dd-4e2c-82cf-96ed720c7602",
   "metadata": {},
   "outputs": [
    {
     "data": {
      "text/plain": [
       "<Axes: xlabel='SBP', ylabel='Count'>"
      ]
     },
     "execution_count": 29,
     "metadata": {},
     "output_type": "execute_result"
    },
    {
     "data": {
      "image/png": "[encoded data removed]",
      "text/plain": [
       "<Figure size 640x480 with 1 Axes>"
      ]
     },
     "metadata": {},
     "output_type": "display_data"
    }
   ],
   "source": [
    "sns.histplot(x='SBP',data=no_smoke)"
   ]
  },
  {
   "cell_type": "code",
   "execution_count": 30,
   "id": "4e067433-ca0f-45fb-b43c-f447b9393eab",
   "metadata": {},
   "outputs": [
    {
     "data": {
      "text/plain": [
       "<Axes: xlabel='SBP', ylabel='Count'>"
      ]
     },
     "execution_count": 30,
     "metadata": {},
     "output_type": "execute_result"
    },
    {
     "data": {
      "image/png": "[encoded data removed]",
      "text/plain": [
       "<Figure size 640x480 with 1 Axes>"
      ]
     },
     "metadata": {},
     "output_type": "display_data"
    }
   ],
   "source": [
    "sns.histplot(x='SBP',data=tr_smoke)"
   ]
  },
  {
   "cell_type": "markdown",
   "id": "80ba11a9-3abc-4168-9e49-43efe8cf3634",
   "metadata": {},
   "source": [
    "**This shows us that SBP is not an important variable**"
   ]
  },
  {
   "cell_type": "code",
   "execution_count": 31,
   "id": "c837d98f-2ac3-428c-ab06-66b06abc062e",
   "metadata": {},
   "outputs": [
    {
     "data": {
      "text/plain": [
       "<Axes: xlabel='DBP', ylabel='Count'>"
      ]
     },
     "execution_count": 31,
     "metadata": {},
     "output_type": "execute_result"
    },
    {
     "data": {
      "image/png": "[encoded data removed]",
      "text/plain": [
       "<Figure size 640x480 with 1 Axes>"
      ]
     },
     "metadata": {},
     "output_type": "display_data"
    }
   ],
   "source": [
    "sns.histplot(x='DBP',data=tr_smoke)"
   ]
  },
  {
   "cell_type": "code",
   "execution_count": 32,
   "id": "2616cec7-524a-417b-9676-5d8684a32e32",
   "metadata": {
    "scrolled": true
   },
   "outputs": [
    {
     "data": {
      "text/plain": [
       "<Axes: xlabel='DBP', ylabel='Count'>"
      ]
     },
     "execution_count": 32,
     "metadata": {},
     "output_type": "execute_result"
    },
    {
     "data": {
      "image/png": "[encoded data removed]",
      "text/plain": [
       "<Figure size 640x480 with 1 Axes>"
      ]
     },
     "metadata": {},
     "output_type": "display_data"
    }
   ],
   "source": [
    "sns.histplot(x='DBP',data=no_smoke)"
   ]
  },
  {
   "cell_type": "markdown",
   "id": "435c7296-77a4-406f-bd5b-ac8d8a2042a9",
   "metadata": {},
   "source": [
    "**We can conclude that SBP and DBP are not very important variables.<br>\n",
    " We can also say that if your HDL and LDL levels are high, then total cholestrol level will also be high.**"
   ]
  },
  {
   "cell_type": "code",
   "execution_count": 33,
   "id": "cb6b17a9-b5da-4da4-b549-13e6719d324a",
   "metadata": {},
   "outputs": [
    {
     "data": {
      "text/plain": [
       "<Axes: xlabel='urine_protein', ylabel='count'>"
      ]
     },
     "execution_count": 33,
     "metadata": {},
     "output_type": "execute_result"
    },
    {
     "data": {
      "image/png": "[encoded data removed]",
      "text/plain": [
       "<Figure size 640x480 with 1 Axes>"
      ]
     },
     "metadata": {},
     "output_type": "display_data"
    }
   ],
   "source": [
    "sns.countplot(x='urine_protein',data=tr_smoke)"
   ]
  },
  {
   "cell_type": "code",
   "execution_count": 34,
   "id": "05f3d727-6edc-46dd-9d48-c71a93a8449b",
   "metadata": {},
   "outputs": [
    {
     "data": {
      "text/plain": [
       "<Axes: xlabel='urine_protein', ylabel='count'>"
      ]
     },
     "execution_count": 34,
     "metadata": {},
     "output_type": "execute_result"
    },
    {
     "data": {
      "image/png": "[encoded data removed]",
      "text/plain": [
       "<Figure size 640x480 with 1 Axes>"
      ]
     },
     "metadata": {},
     "output_type": "display_data"
    }
   ],
   "source": [
    "sns.countplot(x='urine_protein',data=no_smoke)"
   ]
  },
  {
   "cell_type": "code",
   "execution_count": 35,
   "id": "1a9078a0-6c26-442f-8f0f-ac9c6127701e",
   "metadata": {},
   "outputs": [],
   "source": [
    "##urine protein is not an important variable are there is not much difference in people who drink and not drink.\n",
    "##now that we know that HDL and LDL are related to total cholestrol, we can remove those two variables as well\n",
    "smoking= smoking.drop(['age','SBP','DBP','HDL_chole','LDL_chole','urine_protein','serum_creatinine'],axis=1)"
   ]
  },
  {
   "cell_type": "code",
   "execution_count": 36,
   "id": "0bbd61b1-86a9-4849-b58c-08e876f0f218",
   "metadata": {},
   "outputs": [],
   "source": [
    "tr_smoke=smoking.loc[smoking['DRK_YN'] == 'Y']\n",
    "no_smoke=smoking.loc[smoking['DRK_YN'] == 'N']"
   ]
  },
  {
   "cell_type": "code",
   "execution_count": 37,
   "id": "058e36ce-4182-4ef2-b31e-4873fd5e7e69",
   "metadata": {},
   "outputs": [
    {
     "data": {
      "text/html": [
       "<div>\n",
       "<style scoped>\n",
       "    .dataframe tbody tr th:only-of-type {\n",
       "        vertical-align: middle;\n",
       "    }\n",
       "\n",
       "    .dataframe tbody tr th {\n",
       "        vertical-align: top;\n",
       "    }\n",
       "\n",
       "    .dataframe thead th {\n",
       "        text-align: right;\n",
       "    }\n",
       "</style>\n",
       "<table border=\"1\" class=\"dataframe\">\n",
       "  <thead>\n",
       "    <tr style=\"text-align: right;\">\n",
       "      <th></th>\n",
       "      <th>sex</th>\n",
       "      <th>BLDS</th>\n",
       "      <th>tot_chole</th>\n",
       "      <th>triglyceride</th>\n",
       "      <th>hemoglobin</th>\n",
       "      <th>SGOT_AST</th>\n",
       "      <th>SGOT_ALT</th>\n",
       "      <th>gamma_GTP</th>\n",
       "      <th>SMK_stat_type_cd</th>\n",
       "      <th>DRK_YN</th>\n",
       "    </tr>\n",
       "  </thead>\n",
       "  <tbody>\n",
       "    <tr>\n",
       "      <th>0</th>\n",
       "      <td>Male</td>\n",
       "      <td>99</td>\n",
       "      <td>193</td>\n",
       "      <td>92</td>\n",
       "      <td>17.1</td>\n",
       "      <td>21</td>\n",
       "      <td>35</td>\n",
       "      <td>40</td>\n",
       "      <td>1</td>\n",
       "      <td>Y</td>\n",
       "    </tr>\n",
       "    <tr>\n",
       "      <th>1</th>\n",
       "      <td>Male</td>\n",
       "      <td>106</td>\n",
       "      <td>228</td>\n",
       "      <td>121</td>\n",
       "      <td>15.8</td>\n",
       "      <td>20</td>\n",
       "      <td>36</td>\n",
       "      <td>27</td>\n",
       "      <td>3</td>\n",
       "      <td>N</td>\n",
       "    </tr>\n",
       "    <tr>\n",
       "      <th>2</th>\n",
       "      <td>Male</td>\n",
       "      <td>98</td>\n",
       "      <td>136</td>\n",
       "      <td>104</td>\n",
       "      <td>15.8</td>\n",
       "      <td>47</td>\n",
       "      <td>32</td>\n",
       "      <td>68</td>\n",
       "      <td>1</td>\n",
       "      <td>N</td>\n",
       "    </tr>\n",
       "    <tr>\n",
       "      <th>3</th>\n",
       "      <td>Male</td>\n",
       "      <td>95</td>\n",
       "      <td>201</td>\n",
       "      <td>106</td>\n",
       "      <td>17.6</td>\n",
       "      <td>29</td>\n",
       "      <td>34</td>\n",
       "      <td>18</td>\n",
       "      <td>1</td>\n",
       "      <td>N</td>\n",
       "    </tr>\n",
       "    <tr>\n",
       "      <th>4</th>\n",
       "      <td>Male</td>\n",
       "      <td>101</td>\n",
       "      <td>199</td>\n",
       "      <td>104</td>\n",
       "      <td>13.8</td>\n",
       "      <td>19</td>\n",
       "      <td>12</td>\n",
       "      <td>25</td>\n",
       "      <td>1</td>\n",
       "      <td>N</td>\n",
       "    </tr>\n",
       "  </tbody>\n",
       "</table>\n",
       "</div>"
      ],
      "text/plain": [
       "    sex  BLDS  tot_chole  triglyceride  hemoglobin  SGOT_AST  SGOT_ALT  \\\n",
       "0  Male    99        193            92        17.1        21        35   \n",
       "1  Male   106        228           121        15.8        20        36   \n",
       "2  Male    98        136           104        15.8        47        32   \n",
       "3  Male    95        201           106        17.6        29        34   \n",
       "4  Male   101        199           104        13.8        19        12   \n",
       "\n",
       "   gamma_GTP  SMK_stat_type_cd DRK_YN  \n",
       "0         40                 1      Y  \n",
       "1         27                 3      N  \n",
       "2         68                 1      N  \n",
       "3         18                 1      N  \n",
       "4         25                 1      N  "
      ]
     },
     "execution_count": 37,
     "metadata": {},
     "output_type": "execute_result"
    }
   ],
   "source": [
    "smoking.head()\n"
   ]
  },
  {
   "cell_type": "code",
   "execution_count": 38,
   "id": "04009831-f617-46a4-8514-f964f4912d58",
   "metadata": {},
   "outputs": [],
   "source": [
    "#according to google the ratio of AST/ALT >1 indicates that the person has a good chance to be a substance abuser.\n",
    "#hence we create another column for the ratio and remove the existing columns\n",
    "\n",
    "smoking['AST/ALT']=smoking['SGOT_AST']/smoking['SGOT_ALT']"
   ]
  },
  {
   "cell_type": "code",
   "execution_count": 39,
   "id": "b9717d7e-5557-4381-ac2c-7525e3a151fe",
   "metadata": {},
   "outputs": [],
   "source": [
    "smoking=smoking.drop(['SGOT_AST','SGOT_ALT'],axis=1)"
   ]
  },
  {
   "cell_type": "code",
   "execution_count": 40,
   "id": "703ef606-603b-4105-995b-de327118d0cc",
   "metadata": {},
   "outputs": [
    {
     "data": {
      "text/html": [
       "<div>\n",
       "<style scoped>\n",
       "    .dataframe tbody tr th:only-of-type {\n",
       "        vertical-align: middle;\n",
       "    }\n",
       "\n",
       "    .dataframe tbody tr th {\n",
       "        vertical-align: top;\n",
       "    }\n",
       "\n",
       "    .dataframe thead th {\n",
       "        text-align: right;\n",
       "    }\n",
       "</style>\n",
       "<table border=\"1\" class=\"dataframe\">\n",
       "  <thead>\n",
       "    <tr style=\"text-align: right;\">\n",
       "      <th></th>\n",
       "      <th>sex</th>\n",
       "      <th>BLDS</th>\n",
       "      <th>tot_chole</th>\n",
       "      <th>triglyceride</th>\n",
       "      <th>hemoglobin</th>\n",
       "      <th>gamma_GTP</th>\n",
       "      <th>SMK_stat_type_cd</th>\n",
       "      <th>DRK_YN</th>\n",
       "      <th>AST/ALT</th>\n",
       "    </tr>\n",
       "  </thead>\n",
       "  <tbody>\n",
       "    <tr>\n",
       "      <th>0</th>\n",
       "      <td>Male</td>\n",
       "      <td>99</td>\n",
       "      <td>193</td>\n",
       "      <td>92</td>\n",
       "      <td>17.1</td>\n",
       "      <td>40</td>\n",
       "      <td>1</td>\n",
       "      <td>Y</td>\n",
       "      <td>0.600000</td>\n",
       "    </tr>\n",
       "    <tr>\n",
       "      <th>1</th>\n",
       "      <td>Male</td>\n",
       "      <td>106</td>\n",
       "      <td>228</td>\n",
       "      <td>121</td>\n",
       "      <td>15.8</td>\n",
       "      <td>27</td>\n",
       "      <td>3</td>\n",
       "      <td>N</td>\n",
       "      <td>0.555556</td>\n",
       "    </tr>\n",
       "    <tr>\n",
       "      <th>2</th>\n",
       "      <td>Male</td>\n",
       "      <td>98</td>\n",
       "      <td>136</td>\n",
       "      <td>104</td>\n",
       "      <td>15.8</td>\n",
       "      <td>68</td>\n",
       "      <td>1</td>\n",
       "      <td>N</td>\n",
       "      <td>1.468750</td>\n",
       "    </tr>\n",
       "    <tr>\n",
       "      <th>3</th>\n",
       "      <td>Male</td>\n",
       "      <td>95</td>\n",
       "      <td>201</td>\n",
       "      <td>106</td>\n",
       "      <td>17.6</td>\n",
       "      <td>18</td>\n",
       "      <td>1</td>\n",
       "      <td>N</td>\n",
       "      <td>0.852941</td>\n",
       "    </tr>\n",
       "    <tr>\n",
       "      <th>4</th>\n",
       "      <td>Male</td>\n",
       "      <td>101</td>\n",
       "      <td>199</td>\n",
       "      <td>104</td>\n",
       "      <td>13.8</td>\n",
       "      <td>25</td>\n",
       "      <td>1</td>\n",
       "      <td>N</td>\n",
       "      <td>1.583333</td>\n",
       "    </tr>\n",
       "  </tbody>\n",
       "</table>\n",
       "</div>"
      ],
      "text/plain": [
       "    sex  BLDS  tot_chole  triglyceride  hemoglobin  gamma_GTP  \\\n",
       "0  Male    99        193            92        17.1         40   \n",
       "1  Male   106        228           121        15.8         27   \n",
       "2  Male    98        136           104        15.8         68   \n",
       "3  Male    95        201           106        17.6         18   \n",
       "4  Male   101        199           104        13.8         25   \n",
       "\n",
       "   SMK_stat_type_cd DRK_YN   AST/ALT  \n",
       "0                 1      Y  0.600000  \n",
       "1                 3      N  0.555556  \n",
       "2                 1      N  1.468750  \n",
       "3                 1      N  0.852941  \n",
       "4                 1      N  1.583333  "
      ]
     },
     "execution_count": 40,
     "metadata": {},
     "output_type": "execute_result"
    }
   ],
   "source": [
    "smoking.head()"
   ]
  },
  {
   "cell_type": "code",
   "execution_count": 41,
   "id": "06bc3bed-d876-41ed-b589-f34c6e713bc0",
   "metadata": {},
   "outputs": [],
   "source": [
    "tr_smoke=smoking.loc[smoking['DRK_YN'] == 'Y']\n",
    "no_smoke=smoking.loc[smoking['DRK_YN'] == 'N']"
   ]
  },
  {
   "cell_type": "code",
   "execution_count": 42,
   "id": "79dff188-9bac-4166-a983-85eec63e6db0",
   "metadata": {},
   "outputs": [
    {
     "data": {
      "text/html": [
       "<div>\n",
       "<style scoped>\n",
       "    .dataframe tbody tr th:only-of-type {\n",
       "        vertical-align: middle;\n",
       "    }\n",
       "\n",
       "    .dataframe tbody tr th {\n",
       "        vertical-align: top;\n",
       "    }\n",
       "\n",
       "    .dataframe thead th {\n",
       "        text-align: right;\n",
       "    }\n",
       "</style>\n",
       "<table border=\"1\" class=\"dataframe\">\n",
       "  <thead>\n",
       "    <tr style=\"text-align: right;\">\n",
       "      <th></th>\n",
       "      <th>sex</th>\n",
       "      <th>BLDS</th>\n",
       "      <th>tot_chole</th>\n",
       "      <th>triglyceride</th>\n",
       "      <th>hemoglobin</th>\n",
       "      <th>gamma_GTP</th>\n",
       "      <th>SMK_stat_type_cd</th>\n",
       "      <th>DRK_YN</th>\n",
       "      <th>AST/ALT</th>\n",
       "    </tr>\n",
       "  </thead>\n",
       "  <tbody>\n",
       "    <tr>\n",
       "      <th>0</th>\n",
       "      <td>Male</td>\n",
       "      <td>99</td>\n",
       "      <td>193</td>\n",
       "      <td>92</td>\n",
       "      <td>17.1</td>\n",
       "      <td>40</td>\n",
       "      <td>1</td>\n",
       "      <td>Y</td>\n",
       "      <td>0.600000</td>\n",
       "    </tr>\n",
       "    <tr>\n",
       "      <th>5</th>\n",
       "      <td>Male</td>\n",
       "      <td>99</td>\n",
       "      <td>218</td>\n",
       "      <td>232</td>\n",
       "      <td>13.8</td>\n",
       "      <td>37</td>\n",
       "      <td>3</td>\n",
       "      <td>Y</td>\n",
       "      <td>0.725000</td>\n",
       "    </tr>\n",
       "    <tr>\n",
       "      <th>7</th>\n",
       "      <td>Male</td>\n",
       "      <td>94</td>\n",
       "      <td>185</td>\n",
       "      <td>101</td>\n",
       "      <td>14.4</td>\n",
       "      <td>35</td>\n",
       "      <td>3</td>\n",
       "      <td>Y</td>\n",
       "      <td>1.000000</td>\n",
       "    </tr>\n",
       "    <tr>\n",
       "      <th>8</th>\n",
       "      <td>Male</td>\n",
       "      <td>104</td>\n",
       "      <td>217</td>\n",
       "      <td>100</td>\n",
       "      <td>15.1</td>\n",
       "      <td>26</td>\n",
       "      <td>1</td>\n",
       "      <td>Y</td>\n",
       "      <td>1.391304</td>\n",
       "    </tr>\n",
       "    <tr>\n",
       "      <th>9</th>\n",
       "      <td>Male</td>\n",
       "      <td>100</td>\n",
       "      <td>195</td>\n",
       "      <td>83</td>\n",
       "      <td>13.9</td>\n",
       "      <td>16</td>\n",
       "      <td>2</td>\n",
       "      <td>Y</td>\n",
       "      <td>0.552632</td>\n",
       "    </tr>\n",
       "  </tbody>\n",
       "</table>\n",
       "</div>"
      ],
      "text/plain": [
       "    sex  BLDS  tot_chole  triglyceride  hemoglobin  gamma_GTP  \\\n",
       "0  Male    99        193            92        17.1         40   \n",
       "5  Male    99        218           232        13.8         37   \n",
       "7  Male    94        185           101        14.4         35   \n",
       "8  Male   104        217           100        15.1         26   \n",
       "9  Male   100        195            83        13.9         16   \n",
       "\n",
       "   SMK_stat_type_cd DRK_YN   AST/ALT  \n",
       "0                 1      Y  0.600000  \n",
       "5                 3      Y  0.725000  \n",
       "7                 3      Y  1.000000  \n",
       "8                 1      Y  1.391304  \n",
       "9                 2      Y  0.552632  "
      ]
     },
     "execution_count": 42,
     "metadata": {},
     "output_type": "execute_result"
    }
   ],
   "source": [
    "tr_smoke.head()"
   ]
  },
  {
   "cell_type": "code",
   "execution_count": 43,
   "id": "0aa79ef0-bb2e-48cb-9dfc-95f4f610b8cd",
   "metadata": {},
   "outputs": [
    {
     "data": {
      "text/html": [
       "<div>\n",
       "<style scoped>\n",
       "    .dataframe tbody tr th:only-of-type {\n",
       "        vertical-align: middle;\n",
       "    }\n",
       "\n",
       "    .dataframe tbody tr th {\n",
       "        vertical-align: top;\n",
       "    }\n",
       "\n",
       "    .dataframe thead th {\n",
       "        text-align: right;\n",
       "    }\n",
       "</style>\n",
       "<table border=\"1\" class=\"dataframe\">\n",
       "  <thead>\n",
       "    <tr style=\"text-align: right;\">\n",
       "      <th></th>\n",
       "      <th>sex</th>\n",
       "      <th>BLDS</th>\n",
       "      <th>tot_chole</th>\n",
       "      <th>triglyceride</th>\n",
       "      <th>hemoglobin</th>\n",
       "      <th>gamma_GTP</th>\n",
       "      <th>SMK_stat_type_cd</th>\n",
       "      <th>DRK_YN</th>\n",
       "      <th>AST/ALT</th>\n",
       "    </tr>\n",
       "  </thead>\n",
       "  <tbody>\n",
       "    <tr>\n",
       "      <th>991336</th>\n",
       "      <td>Male</td>\n",
       "      <td>109</td>\n",
       "      <td>171</td>\n",
       "      <td>57</td>\n",
       "      <td>12.0</td>\n",
       "      <td>15</td>\n",
       "      <td>2</td>\n",
       "      <td>Y</td>\n",
       "      <td>1.636364</td>\n",
       "    </tr>\n",
       "    <tr>\n",
       "      <th>991338</th>\n",
       "      <td>Male</td>\n",
       "      <td>87</td>\n",
       "      <td>211</td>\n",
       "      <td>92</td>\n",
       "      <td>15.4</td>\n",
       "      <td>50</td>\n",
       "      <td>2</td>\n",
       "      <td>Y</td>\n",
       "      <td>0.961538</td>\n",
       "    </tr>\n",
       "    <tr>\n",
       "      <th>991339</th>\n",
       "      <td>Male</td>\n",
       "      <td>93</td>\n",
       "      <td>167</td>\n",
       "      <td>105</td>\n",
       "      <td>16.1</td>\n",
       "      <td>32</td>\n",
       "      <td>1</td>\n",
       "      <td>Y</td>\n",
       "      <td>1.769231</td>\n",
       "    </tr>\n",
       "    <tr>\n",
       "      <th>991343</th>\n",
       "      <td>Female</td>\n",
       "      <td>90</td>\n",
       "      <td>205</td>\n",
       "      <td>157</td>\n",
       "      <td>14.3</td>\n",
       "      <td>17</td>\n",
       "      <td>3</td>\n",
       "      <td>Y</td>\n",
       "      <td>1.111111</td>\n",
       "    </tr>\n",
       "    <tr>\n",
       "      <th>991345</th>\n",
       "      <td>Male</td>\n",
       "      <td>99</td>\n",
       "      <td>225</td>\n",
       "      <td>163</td>\n",
       "      <td>15.8</td>\n",
       "      <td>36</td>\n",
       "      <td>3</td>\n",
       "      <td>Y</td>\n",
       "      <td>0.558140</td>\n",
       "    </tr>\n",
       "  </tbody>\n",
       "</table>\n",
       "</div>"
      ],
      "text/plain": [
       "           sex  BLDS  tot_chole  triglyceride  hemoglobin  gamma_GTP  \\\n",
       "991336    Male   109        171            57        12.0         15   \n",
       "991338    Male    87        211            92        15.4         50   \n",
       "991339    Male    93        167           105        16.1         32   \n",
       "991343  Female    90        205           157        14.3         17   \n",
       "991345    Male    99        225           163        15.8         36   \n",
       "\n",
       "        SMK_stat_type_cd DRK_YN   AST/ALT  \n",
       "991336                 2      Y  1.636364  \n",
       "991338                 2      Y  0.961538  \n",
       "991339                 1      Y  1.769231  \n",
       "991343                 3      Y  1.111111  \n",
       "991345                 3      Y  0.558140  "
      ]
     },
     "execution_count": 43,
     "metadata": {},
     "output_type": "execute_result"
    }
   ],
   "source": [
    "tr_smoke.tail()"
   ]
  },
  {
   "cell_type": "code",
   "execution_count": 44,
   "id": "6777fe3c-03af-442c-8031-77c46ec1566f",
   "metadata": {},
   "outputs": [
    {
     "data": {
      "text/plain": [
       "<Axes: xlabel='SMK_stat_type_cd', ylabel='count'>"
      ]
     },
     "execution_count": 44,
     "metadata": {},
     "output_type": "execute_result"
    },
    {
     "data": {
      "image/png": "[encoded data removed]",
      "text/plain": [
       "<Figure size 640x480 with 1 Axes>"
      ]
     },
     "metadata": {},
     "output_type": "display_data"
    }
   ],
   "source": [
    "sns.countplot(x='SMK_stat_type_cd',data=smoking,hue='DRK_YN')\n"
   ]
  },
  {
   "cell_type": "markdown",
   "id": "a0915963-78fb-4fb2-ab71-5cea8bfe847e",
   "metadata": {},
   "source": [
    "**We can see that people who substance abuse have a higher value of SMK_stat. hence its an important variable.**\n"
   ]
  },
  {
   "cell_type": "code",
   "execution_count": 45,
   "id": "40d1fcae-7aa9-4999-982a-b223d28a5674",
   "metadata": {},
   "outputs": [
    {
     "data": {
      "text/plain": [
       "<Axes: xlabel='gamma_GTP', ylabel='Count'>"
      ]
     },
     "execution_count": 45,
     "metadata": {},
     "output_type": "execute_result"
    },
    {
     "data": {
      "image/png": "[encoded data removed]",
      "text/plain": [
       "<Figure size 640x480 with 1 Axes>"
      ]
     },
     "metadata": {},
     "output_type": "display_data"
    }
   ],
   "source": [
    "sns.histplot(x='gamma_GTP',data=smoking,hue='DRK_YN')"
   ]
  },
  {
   "cell_type": "code",
   "execution_count": 46,
   "id": "6f50bcdb-af95-4410-a2ee-cc4ebf19d331",
   "metadata": {},
   "outputs": [],
   "source": [
    "#again people who substance abuse have higher levels of gamma_gtp, hence its an important variable.\n",
    "#renaming the columns so that we can understand better.\n",
    "smoking.rename(columns={\"tot_chole\": \"cholestrol\",\"DRK_YN\":\"Y/N\"}, inplace=True)"
   ]
  },
  {
   "cell_type": "code",
   "execution_count": 47,
   "id": "77934f05-b12c-4fbf-a2ec-769fe595f579",
   "metadata": {},
   "outputs": [],
   "source": [
    "tr_smoke=smoking.loc[smoking['Y/N'] == 'Y']"
   ]
  },
  {
   "cell_type": "code",
   "execution_count": 48,
   "id": "2cf13d99-1ab8-4f0e-912c-ea8abc9dc997",
   "metadata": {},
   "outputs": [],
   "source": [
    "no_smoke=smoking.loc[smoking['Y/N'] == 'N']"
   ]
  },
  {
   "cell_type": "code",
   "execution_count": 49,
   "id": "206e8012-fe69-4d9f-8f24-a5137fd658c3",
   "metadata": {},
   "outputs": [
    {
     "data": {
      "text/html": [
       "<div>\n",
       "<style scoped>\n",
       "    .dataframe tbody tr th:only-of-type {\n",
       "        vertical-align: middle;\n",
       "    }\n",
       "\n",
       "    .dataframe tbody tr th {\n",
       "        vertical-align: top;\n",
       "    }\n",
       "\n",
       "    .dataframe thead th {\n",
       "        text-align: right;\n",
       "    }\n",
       "</style>\n",
       "<table border=\"1\" class=\"dataframe\">\n",
       "  <thead>\n",
       "    <tr style=\"text-align: right;\">\n",
       "      <th></th>\n",
       "      <th>sex</th>\n",
       "      <th>BLDS</th>\n",
       "      <th>cholestrol</th>\n",
       "      <th>triglyceride</th>\n",
       "      <th>hemoglobin</th>\n",
       "      <th>gamma_GTP</th>\n",
       "      <th>SMK_stat_type_cd</th>\n",
       "      <th>Y/N</th>\n",
       "      <th>AST/ALT</th>\n",
       "    </tr>\n",
       "  </thead>\n",
       "  <tbody>\n",
       "    <tr>\n",
       "      <th>0</th>\n",
       "      <td>Male</td>\n",
       "      <td>99</td>\n",
       "      <td>193</td>\n",
       "      <td>92</td>\n",
       "      <td>17.1</td>\n",
       "      <td>40</td>\n",
       "      <td>1</td>\n",
       "      <td>Y</td>\n",
       "      <td>0.600000</td>\n",
       "    </tr>\n",
       "    <tr>\n",
       "      <th>1</th>\n",
       "      <td>Male</td>\n",
       "      <td>106</td>\n",
       "      <td>228</td>\n",
       "      <td>121</td>\n",
       "      <td>15.8</td>\n",
       "      <td>27</td>\n",
       "      <td>3</td>\n",
       "      <td>N</td>\n",
       "      <td>0.555556</td>\n",
       "    </tr>\n",
       "    <tr>\n",
       "      <th>2</th>\n",
       "      <td>Male</td>\n",
       "      <td>98</td>\n",
       "      <td>136</td>\n",
       "      <td>104</td>\n",
       "      <td>15.8</td>\n",
       "      <td>68</td>\n",
       "      <td>1</td>\n",
       "      <td>N</td>\n",
       "      <td>1.468750</td>\n",
       "    </tr>\n",
       "    <tr>\n",
       "      <th>3</th>\n",
       "      <td>Male</td>\n",
       "      <td>95</td>\n",
       "      <td>201</td>\n",
       "      <td>106</td>\n",
       "      <td>17.6</td>\n",
       "      <td>18</td>\n",
       "      <td>1</td>\n",
       "      <td>N</td>\n",
       "      <td>0.852941</td>\n",
       "    </tr>\n",
       "    <tr>\n",
       "      <th>4</th>\n",
       "      <td>Male</td>\n",
       "      <td>101</td>\n",
       "      <td>199</td>\n",
       "      <td>104</td>\n",
       "      <td>13.8</td>\n",
       "      <td>25</td>\n",
       "      <td>1</td>\n",
       "      <td>N</td>\n",
       "      <td>1.583333</td>\n",
       "    </tr>\n",
       "  </tbody>\n",
       "</table>\n",
       "</div>"
      ],
      "text/plain": [
       "    sex  BLDS  cholestrol  triglyceride  hemoglobin  gamma_GTP  \\\n",
       "0  Male    99         193            92        17.1         40   \n",
       "1  Male   106         228           121        15.8         27   \n",
       "2  Male    98         136           104        15.8         68   \n",
       "3  Male    95         201           106        17.6         18   \n",
       "4  Male   101         199           104        13.8         25   \n",
       "\n",
       "   SMK_stat_type_cd Y/N   AST/ALT  \n",
       "0                 1   Y  0.600000  \n",
       "1                 3   N  0.555556  \n",
       "2                 1   N  1.468750  \n",
       "3                 1   N  0.852941  \n",
       "4                 1   N  1.583333  "
      ]
     },
     "execution_count": 49,
     "metadata": {},
     "output_type": "execute_result"
    }
   ],
   "source": [
    "smoking.head()"
   ]
  },
  {
   "cell_type": "markdown",
   "id": "71549d16-2572-4469-a768-f156672220ce",
   "metadata": {},
   "source": [
    "## Model Creation"
   ]
  },
  {
   "cell_type": "code",
   "execution_count": 50,
   "id": "b264e677-1b15-4319-8593-9a489b8c0175",
   "metadata": {},
   "outputs": [],
   "source": [
    "#We are done with the EDA in which we have removed the unwanted variables and the data is now ready to be fed into an ML model.\n",
    "##data seperation.\n",
    "y=smoking['Y/N']\n",
    "\n"
   ]
  },
  {
   "cell_type": "code",
   "execution_count": 51,
   "id": "de70ba3a-4e63-41eb-891d-6fad890915d8",
   "metadata": {},
   "outputs": [
    {
     "data": {
      "text/html": [
       "<div>\n",
       "<style scoped>\n",
       "    .dataframe tbody tr th:only-of-type {\n",
       "        vertical-align: middle;\n",
       "    }\n",
       "\n",
       "    .dataframe tbody tr th {\n",
       "        vertical-align: top;\n",
       "    }\n",
       "\n",
       "    .dataframe thead th {\n",
       "        text-align: right;\n",
       "    }\n",
       "</style>\n",
       "<table border=\"1\" class=\"dataframe\">\n",
       "  <thead>\n",
       "    <tr style=\"text-align: right;\">\n",
       "      <th></th>\n",
       "      <th>sex</th>\n",
       "      <th>BLDS</th>\n",
       "      <th>cholestrol</th>\n",
       "      <th>triglyceride</th>\n",
       "      <th>hemoglobin</th>\n",
       "      <th>gamma_GTP</th>\n",
       "      <th>SMK_stat_type_cd</th>\n",
       "      <th>AST/ALT</th>\n",
       "    </tr>\n",
       "  </thead>\n",
       "  <tbody>\n",
       "    <tr>\n",
       "      <th>0</th>\n",
       "      <td>Male</td>\n",
       "      <td>99</td>\n",
       "      <td>193</td>\n",
       "      <td>92</td>\n",
       "      <td>17.1</td>\n",
       "      <td>40</td>\n",
       "      <td>1</td>\n",
       "      <td>0.600000</td>\n",
       "    </tr>\n",
       "    <tr>\n",
       "      <th>1</th>\n",
       "      <td>Male</td>\n",
       "      <td>106</td>\n",
       "      <td>228</td>\n",
       "      <td>121</td>\n",
       "      <td>15.8</td>\n",
       "      <td>27</td>\n",
       "      <td>3</td>\n",
       "      <td>0.555556</td>\n",
       "    </tr>\n",
       "    <tr>\n",
       "      <th>2</th>\n",
       "      <td>Male</td>\n",
       "      <td>98</td>\n",
       "      <td>136</td>\n",
       "      <td>104</td>\n",
       "      <td>15.8</td>\n",
       "      <td>68</td>\n",
       "      <td>1</td>\n",
       "      <td>1.468750</td>\n",
       "    </tr>\n",
       "    <tr>\n",
       "      <th>3</th>\n",
       "      <td>Male</td>\n",
       "      <td>95</td>\n",
       "      <td>201</td>\n",
       "      <td>106</td>\n",
       "      <td>17.6</td>\n",
       "      <td>18</td>\n",
       "      <td>1</td>\n",
       "      <td>0.852941</td>\n",
       "    </tr>\n",
       "    <tr>\n",
       "      <th>4</th>\n",
       "      <td>Male</td>\n",
       "      <td>101</td>\n",
       "      <td>199</td>\n",
       "      <td>104</td>\n",
       "      <td>13.8</td>\n",
       "      <td>25</td>\n",
       "      <td>1</td>\n",
       "      <td>1.583333</td>\n",
       "    </tr>\n",
       "    <tr>\n",
       "      <th>...</th>\n",
       "      <td>...</td>\n",
       "      <td>...</td>\n",
       "      <td>...</td>\n",
       "      <td>...</td>\n",
       "      <td>...</td>\n",
       "      <td>...</td>\n",
       "      <td>...</td>\n",
       "      <td>...</td>\n",
       "    </tr>\n",
       "    <tr>\n",
       "      <th>991341</th>\n",
       "      <td>Male</td>\n",
       "      <td>88</td>\n",
       "      <td>198</td>\n",
       "      <td>132</td>\n",
       "      <td>15.0</td>\n",
       "      <td>27</td>\n",
       "      <td>1</td>\n",
       "      <td>0.722222</td>\n",
       "    </tr>\n",
       "    <tr>\n",
       "      <th>991342</th>\n",
       "      <td>Male</td>\n",
       "      <td>83</td>\n",
       "      <td>133</td>\n",
       "      <td>45</td>\n",
       "      <td>15.8</td>\n",
       "      <td>15</td>\n",
       "      <td>1</td>\n",
       "      <td>0.823529</td>\n",
       "    </tr>\n",
       "    <tr>\n",
       "      <th>991343</th>\n",
       "      <td>Female</td>\n",
       "      <td>90</td>\n",
       "      <td>205</td>\n",
       "      <td>157</td>\n",
       "      <td>14.3</td>\n",
       "      <td>17</td>\n",
       "      <td>3</td>\n",
       "      <td>1.111111</td>\n",
       "    </tr>\n",
       "    <tr>\n",
       "      <th>991344</th>\n",
       "      <td>Male</td>\n",
       "      <td>69</td>\n",
       "      <td>122</td>\n",
       "      <td>53</td>\n",
       "      <td>14.5</td>\n",
       "      <td>17</td>\n",
       "      <td>1</td>\n",
       "      <td>1.500000</td>\n",
       "    </tr>\n",
       "    <tr>\n",
       "      <th>991345</th>\n",
       "      <td>Male</td>\n",
       "      <td>99</td>\n",
       "      <td>225</td>\n",
       "      <td>163</td>\n",
       "      <td>15.8</td>\n",
       "      <td>36</td>\n",
       "      <td>3</td>\n",
       "      <td>0.558140</td>\n",
       "    </tr>\n",
       "  </tbody>\n",
       "</table>\n",
       "<p>983504 rows × 8 columns</p>\n",
       "</div>"
      ],
      "text/plain": [
       "           sex  BLDS  cholestrol  triglyceride  hemoglobin  gamma_GTP  \\\n",
       "0         Male    99         193            92        17.1         40   \n",
       "1         Male   106         228           121        15.8         27   \n",
       "2         Male    98         136           104        15.8         68   \n",
       "3         Male    95         201           106        17.6         18   \n",
       "4         Male   101         199           104        13.8         25   \n",
       "...        ...   ...         ...           ...         ...        ...   \n",
       "991341    Male    88         198           132        15.0         27   \n",
       "991342    Male    83         133            45        15.8         15   \n",
       "991343  Female    90         205           157        14.3         17   \n",
       "991344    Male    69         122            53        14.5         17   \n",
       "991345    Male    99         225           163        15.8         36   \n",
       "\n",
       "        SMK_stat_type_cd   AST/ALT  \n",
       "0                      1  0.600000  \n",
       "1                      3  0.555556  \n",
       "2                      1  1.468750  \n",
       "3                      1  0.852941  \n",
       "4                      1  1.583333  \n",
       "...                  ...       ...  \n",
       "991341                 1  0.722222  \n",
       "991342                 1  0.823529  \n",
       "991343                 3  1.111111  \n",
       "991344                 1  1.500000  \n",
       "991345                 3  0.558140  \n",
       "\n",
       "[983504 rows x 8 columns]"
      ]
     },
     "execution_count": 51,
     "metadata": {},
     "output_type": "execute_result"
    }
   ],
   "source": [
    "x=smoking.drop('Y/N',axis=1)\n",
    "x"
   ]
  },
  {
   "cell_type": "code",
   "execution_count": 52,
   "id": "5369141a-851c-4baf-b18a-d79165a5f45f",
   "metadata": {},
   "outputs": [],
   "source": [
    "from sklearn.model_selection import train_test_split\n",
    "\n",
    "\n",
    "X_train, X_test, y_train, y_test = train_test_split(x, y, test_size=0.2, random_state=100)\n",
    "     "
   ]
  },
  {
   "cell_type": "code",
   "execution_count": 53,
   "id": "ccc32b7f-f4a3-4e55-a504-164e41358594",
   "metadata": {},
   "outputs": [
    {
     "data": {
      "text/html": [
       "<div>\n",
       "<style scoped>\n",
       "    .dataframe tbody tr th:only-of-type {\n",
       "        vertical-align: middle;\n",
       "    }\n",
       "\n",
       "    .dataframe tbody tr th {\n",
       "        vertical-align: top;\n",
       "    }\n",
       "\n",
       "    .dataframe thead th {\n",
       "        text-align: right;\n",
       "    }\n",
       "</style>\n",
       "<table border=\"1\" class=\"dataframe\">\n",
       "  <thead>\n",
       "    <tr style=\"text-align: right;\">\n",
       "      <th></th>\n",
       "      <th>sex</th>\n",
       "      <th>BLDS</th>\n",
       "      <th>cholestrol</th>\n",
       "      <th>triglyceride</th>\n",
       "      <th>hemoglobin</th>\n",
       "      <th>gamma_GTP</th>\n",
       "      <th>SMK_stat_type_cd</th>\n",
       "      <th>AST/ALT</th>\n",
       "    </tr>\n",
       "  </thead>\n",
       "  <tbody>\n",
       "    <tr>\n",
       "      <th>740490</th>\n",
       "      <td>Male</td>\n",
       "      <td>113</td>\n",
       "      <td>194</td>\n",
       "      <td>92</td>\n",
       "      <td>16.6</td>\n",
       "      <td>50</td>\n",
       "      <td>1</td>\n",
       "      <td>0.814815</td>\n",
       "    </tr>\n",
       "    <tr>\n",
       "      <th>593638</th>\n",
       "      <td>Male</td>\n",
       "      <td>102</td>\n",
       "      <td>165</td>\n",
       "      <td>265</td>\n",
       "      <td>13.8</td>\n",
       "      <td>68</td>\n",
       "      <td>3</td>\n",
       "      <td>1.277778</td>\n",
       "    </tr>\n",
       "    <tr>\n",
       "      <th>383653</th>\n",
       "      <td>Male</td>\n",
       "      <td>97</td>\n",
       "      <td>227</td>\n",
       "      <td>140</td>\n",
       "      <td>12.0</td>\n",
       "      <td>31</td>\n",
       "      <td>3</td>\n",
       "      <td>1.142857</td>\n",
       "    </tr>\n",
       "    <tr>\n",
       "      <th>553648</th>\n",
       "      <td>Male</td>\n",
       "      <td>90</td>\n",
       "      <td>141</td>\n",
       "      <td>143</td>\n",
       "      <td>13.9</td>\n",
       "      <td>30</td>\n",
       "      <td>1</td>\n",
       "      <td>1.941176</td>\n",
       "    </tr>\n",
       "    <tr>\n",
       "      <th>68976</th>\n",
       "      <td>Male</td>\n",
       "      <td>116</td>\n",
       "      <td>222</td>\n",
       "      <td>99</td>\n",
       "      <td>13.2</td>\n",
       "      <td>47</td>\n",
       "      <td>3</td>\n",
       "      <td>1.074074</td>\n",
       "    </tr>\n",
       "    <tr>\n",
       "      <th>...</th>\n",
       "      <td>...</td>\n",
       "      <td>...</td>\n",
       "      <td>...</td>\n",
       "      <td>...</td>\n",
       "      <td>...</td>\n",
       "      <td>...</td>\n",
       "      <td>...</td>\n",
       "      <td>...</td>\n",
       "    </tr>\n",
       "    <tr>\n",
       "      <th>870940</th>\n",
       "      <td>Female</td>\n",
       "      <td>93</td>\n",
       "      <td>145</td>\n",
       "      <td>173</td>\n",
       "      <td>12.2</td>\n",
       "      <td>15</td>\n",
       "      <td>1</td>\n",
       "      <td>1.900000</td>\n",
       "    </tr>\n",
       "    <tr>\n",
       "      <th>784309</th>\n",
       "      <td>Female</td>\n",
       "      <td>107</td>\n",
       "      <td>235</td>\n",
       "      <td>129</td>\n",
       "      <td>12.1</td>\n",
       "      <td>26</td>\n",
       "      <td>1</td>\n",
       "      <td>0.434783</td>\n",
       "    </tr>\n",
       "    <tr>\n",
       "      <th>212419</th>\n",
       "      <td>Female</td>\n",
       "      <td>79</td>\n",
       "      <td>223</td>\n",
       "      <td>66</td>\n",
       "      <td>13.1</td>\n",
       "      <td>14</td>\n",
       "      <td>1</td>\n",
       "      <td>2.222222</td>\n",
       "    </tr>\n",
       "    <tr>\n",
       "      <th>56546</th>\n",
       "      <td>Male</td>\n",
       "      <td>95</td>\n",
       "      <td>213</td>\n",
       "      <td>147</td>\n",
       "      <td>16.2</td>\n",
       "      <td>96</td>\n",
       "      <td>3</td>\n",
       "      <td>2.000000</td>\n",
       "    </tr>\n",
       "    <tr>\n",
       "      <th>831396</th>\n",
       "      <td>Female</td>\n",
       "      <td>80</td>\n",
       "      <td>208</td>\n",
       "      <td>26</td>\n",
       "      <td>12.9</td>\n",
       "      <td>20</td>\n",
       "      <td>1</td>\n",
       "      <td>1.250000</td>\n",
       "    </tr>\n",
       "  </tbody>\n",
       "</table>\n",
       "<p>786803 rows × 8 columns</p>\n",
       "</div>"
      ],
      "text/plain": [
       "           sex  BLDS  cholestrol  triglyceride  hemoglobin  gamma_GTP  \\\n",
       "740490    Male   113         194            92        16.6         50   \n",
       "593638    Male   102         165           265        13.8         68   \n",
       "383653    Male    97         227           140        12.0         31   \n",
       "553648    Male    90         141           143        13.9         30   \n",
       "68976     Male   116         222            99        13.2         47   \n",
       "...        ...   ...         ...           ...         ...        ...   \n",
       "870940  Female    93         145           173        12.2         15   \n",
       "784309  Female   107         235           129        12.1         26   \n",
       "212419  Female    79         223            66        13.1         14   \n",
       "56546     Male    95         213           147        16.2         96   \n",
       "831396  Female    80         208            26        12.9         20   \n",
       "\n",
       "        SMK_stat_type_cd   AST/ALT  \n",
       "740490                 1  0.814815  \n",
       "593638                 3  1.277778  \n",
       "383653                 3  1.142857  \n",
       "553648                 1  1.941176  \n",
       "68976                  3  1.074074  \n",
       "...                  ...       ...  \n",
       "870940                 1  1.900000  \n",
       "784309                 1  0.434783  \n",
       "212419                 1  2.222222  \n",
       "56546                  3  2.000000  \n",
       "831396                 1  1.250000  \n",
       "\n",
       "[786803 rows x 8 columns]"
      ]
     },
     "execution_count": 53,
     "metadata": {},
     "output_type": "execute_result"
    }
   ],
   "source": [
    "X_train ##80 percent of data"
   ]
  },
  {
   "cell_type": "code",
   "execution_count": 54,
   "id": "7ca2520c-c915-45dd-a767-f144b184e87e",
   "metadata": {},
   "outputs": [
    {
     "data": {
      "text/html": [
       "<div>\n",
       "<style scoped>\n",
       "    .dataframe tbody tr th:only-of-type {\n",
       "        vertical-align: middle;\n",
       "    }\n",
       "\n",
       "    .dataframe tbody tr th {\n",
       "        vertical-align: top;\n",
       "    }\n",
       "\n",
       "    .dataframe thead th {\n",
       "        text-align: right;\n",
       "    }\n",
       "</style>\n",
       "<table border=\"1\" class=\"dataframe\">\n",
       "  <thead>\n",
       "    <tr style=\"text-align: right;\">\n",
       "      <th></th>\n",
       "      <th>sex</th>\n",
       "      <th>BLDS</th>\n",
       "      <th>cholestrol</th>\n",
       "      <th>triglyceride</th>\n",
       "      <th>hemoglobin</th>\n",
       "      <th>gamma_GTP</th>\n",
       "      <th>SMK_stat_type_cd</th>\n",
       "      <th>AST/ALT</th>\n",
       "    </tr>\n",
       "  </thead>\n",
       "  <tbody>\n",
       "    <tr>\n",
       "      <th>536790</th>\n",
       "      <td>Male</td>\n",
       "      <td>97</td>\n",
       "      <td>134</td>\n",
       "      <td>58</td>\n",
       "      <td>15.5</td>\n",
       "      <td>17</td>\n",
       "      <td>3</td>\n",
       "      <td>1.000000</td>\n",
       "    </tr>\n",
       "    <tr>\n",
       "      <th>603656</th>\n",
       "      <td>Female</td>\n",
       "      <td>99</td>\n",
       "      <td>197</td>\n",
       "      <td>93</td>\n",
       "      <td>12.9</td>\n",
       "      <td>19</td>\n",
       "      <td>1</td>\n",
       "      <td>1.333333</td>\n",
       "    </tr>\n",
       "    <tr>\n",
       "      <th>876440</th>\n",
       "      <td>Female</td>\n",
       "      <td>92</td>\n",
       "      <td>170</td>\n",
       "      <td>153</td>\n",
       "      <td>14.4</td>\n",
       "      <td>7</td>\n",
       "      <td>1</td>\n",
       "      <td>1.166667</td>\n",
       "    </tr>\n",
       "    <tr>\n",
       "      <th>482887</th>\n",
       "      <td>Female</td>\n",
       "      <td>79</td>\n",
       "      <td>220</td>\n",
       "      <td>166</td>\n",
       "      <td>14.5</td>\n",
       "      <td>19</td>\n",
       "      <td>1</td>\n",
       "      <td>1.647059</td>\n",
       "    </tr>\n",
       "    <tr>\n",
       "      <th>457468</th>\n",
       "      <td>Female</td>\n",
       "      <td>91</td>\n",
       "      <td>218</td>\n",
       "      <td>326</td>\n",
       "      <td>10.2</td>\n",
       "      <td>17</td>\n",
       "      <td>3</td>\n",
       "      <td>1.272727</td>\n",
       "    </tr>\n",
       "    <tr>\n",
       "      <th>...</th>\n",
       "      <td>...</td>\n",
       "      <td>...</td>\n",
       "      <td>...</td>\n",
       "      <td>...</td>\n",
       "      <td>...</td>\n",
       "      <td>...</td>\n",
       "      <td>...</td>\n",
       "      <td>...</td>\n",
       "    </tr>\n",
       "    <tr>\n",
       "      <th>919092</th>\n",
       "      <td>Male</td>\n",
       "      <td>93</td>\n",
       "      <td>254</td>\n",
       "      <td>145</td>\n",
       "      <td>15.4</td>\n",
       "      <td>85</td>\n",
       "      <td>3</td>\n",
       "      <td>0.862069</td>\n",
       "    </tr>\n",
       "    <tr>\n",
       "      <th>222926</th>\n",
       "      <td>Female</td>\n",
       "      <td>96</td>\n",
       "      <td>177</td>\n",
       "      <td>53</td>\n",
       "      <td>13.5</td>\n",
       "      <td>10</td>\n",
       "      <td>1</td>\n",
       "      <td>1.400000</td>\n",
       "    </tr>\n",
       "    <tr>\n",
       "      <th>308028</th>\n",
       "      <td>Female</td>\n",
       "      <td>91</td>\n",
       "      <td>142</td>\n",
       "      <td>36</td>\n",
       "      <td>16.1</td>\n",
       "      <td>19</td>\n",
       "      <td>1</td>\n",
       "      <td>1.068966</td>\n",
       "    </tr>\n",
       "    <tr>\n",
       "      <th>928239</th>\n",
       "      <td>Female</td>\n",
       "      <td>68</td>\n",
       "      <td>180</td>\n",
       "      <td>41</td>\n",
       "      <td>14.1</td>\n",
       "      <td>11</td>\n",
       "      <td>1</td>\n",
       "      <td>2.111111</td>\n",
       "    </tr>\n",
       "    <tr>\n",
       "      <th>553350</th>\n",
       "      <td>Female</td>\n",
       "      <td>89</td>\n",
       "      <td>223</td>\n",
       "      <td>57</td>\n",
       "      <td>13.0</td>\n",
       "      <td>11</td>\n",
       "      <td>1</td>\n",
       "      <td>1.750000</td>\n",
       "    </tr>\n",
       "  </tbody>\n",
       "</table>\n",
       "<p>196701 rows × 8 columns</p>\n",
       "</div>"
      ],
      "text/plain": [
       "           sex  BLDS  cholestrol  triglyceride  hemoglobin  gamma_GTP  \\\n",
       "536790    Male    97         134            58        15.5         17   \n",
       "603656  Female    99         197            93        12.9         19   \n",
       "876440  Female    92         170           153        14.4          7   \n",
       "482887  Female    79         220           166        14.5         19   \n",
       "457468  Female    91         218           326        10.2         17   \n",
       "...        ...   ...         ...           ...         ...        ...   \n",
       "919092    Male    93         254           145        15.4         85   \n",
       "222926  Female    96         177            53        13.5         10   \n",
       "308028  Female    91         142            36        16.1         19   \n",
       "928239  Female    68         180            41        14.1         11   \n",
       "553350  Female    89         223            57        13.0         11   \n",
       "\n",
       "        SMK_stat_type_cd   AST/ALT  \n",
       "536790                 3  1.000000  \n",
       "603656                 1  1.333333  \n",
       "876440                 1  1.166667  \n",
       "482887                 1  1.647059  \n",
       "457468                 3  1.272727  \n",
       "...                  ...       ...  \n",
       "919092                 3  0.862069  \n",
       "222926                 1  1.400000  \n",
       "308028                 1  1.068966  \n",
       "928239                 1  2.111111  \n",
       "553350                 1  1.750000  \n",
       "\n",
       "[196701 rows x 8 columns]"
      ]
     },
     "execution_count": 54,
     "metadata": {},
     "output_type": "execute_result"
    }
   ],
   "source": [
    "X_test #20% of data"
   ]
  },
  {
   "cell_type": "code",
   "execution_count": 55,
   "id": "4c41abbf-fdc7-46cc-a686-d10e2fcde996",
   "metadata": {},
   "outputs": [],
   "source": [
    "#now to apply linear regression, we have to convert male to 1 and female to 0(just a convention) and Y to 1 and N to 0.\n",
    "def custom_function(value):\n",
    "    if value == \"Male\":\n",
    "        return 1\n",
    "    else:\n",
    "        return 0\n",
    "\n",
    "# Apply the function to create a new column\n",
    "smoking['sex'] = smoking['sex'].apply(custom_function)\n"
   ]
  },
  {
   "cell_type": "code",
   "execution_count": 56,
   "id": "6871b897-7fb2-4fe3-a38a-9302da5bdbf2",
   "metadata": {},
   "outputs": [],
   "source": [
    "def custom_function2(value):\n",
    "    if value == \"Y\":\n",
    "        return 1\n",
    "    else:\n",
    "        return 0\n",
    "\n",
    "# Apply the function to create a new column\n",
    "smoking['Y/N'] = smoking['Y/N'].apply(custom_function2)\n"
   ]
  },
  {
   "cell_type": "code",
   "execution_count": 57,
   "id": "81ee3a81-9966-44b1-b352-590c18859023",
   "metadata": {},
   "outputs": [],
   "source": [
    "##now again changing the values of x and y...\n",
    "y=smoking['Y/N']\n",
    "x=smoking.drop('Y/N',axis=1)\n",
    "X_train, X_test, y_train, y_test = train_test_split(x, y, test_size=0.2, random_state=100)\n"
   ]
  },
  {
   "cell_type": "code",
   "execution_count": 58,
   "id": "30a8cdae-6af9-4092-8f69-91e7e184f006",
   "metadata": {},
   "outputs": [
    {
     "data": {
      "text/html": [
       "<div>\n",
       "<style scoped>\n",
       "    .dataframe tbody tr th:only-of-type {\n",
       "        vertical-align: middle;\n",
       "    }\n",
       "\n",
       "    .dataframe tbody tr th {\n",
       "        vertical-align: top;\n",
       "    }\n",
       "\n",
       "    .dataframe thead th {\n",
       "        text-align: right;\n",
       "    }\n",
       "</style>\n",
       "<table border=\"1\" class=\"dataframe\">\n",
       "  <thead>\n",
       "    <tr style=\"text-align: right;\">\n",
       "      <th></th>\n",
       "      <th>sex</th>\n",
       "      <th>BLDS</th>\n",
       "      <th>cholestrol</th>\n",
       "      <th>triglyceride</th>\n",
       "      <th>hemoglobin</th>\n",
       "      <th>gamma_GTP</th>\n",
       "      <th>SMK_stat_type_cd</th>\n",
       "      <th>AST/ALT</th>\n",
       "    </tr>\n",
       "  </thead>\n",
       "  <tbody>\n",
       "    <tr>\n",
       "      <th>740490</th>\n",
       "      <td>1</td>\n",
       "      <td>113</td>\n",
       "      <td>194</td>\n",
       "      <td>92</td>\n",
       "      <td>16.6</td>\n",
       "      <td>50</td>\n",
       "      <td>1</td>\n",
       "      <td>0.814815</td>\n",
       "    </tr>\n",
       "    <tr>\n",
       "      <th>593638</th>\n",
       "      <td>1</td>\n",
       "      <td>102</td>\n",
       "      <td>165</td>\n",
       "      <td>265</td>\n",
       "      <td>13.8</td>\n",
       "      <td>68</td>\n",
       "      <td>3</td>\n",
       "      <td>1.277778</td>\n",
       "    </tr>\n",
       "    <tr>\n",
       "      <th>383653</th>\n",
       "      <td>1</td>\n",
       "      <td>97</td>\n",
       "      <td>227</td>\n",
       "      <td>140</td>\n",
       "      <td>12.0</td>\n",
       "      <td>31</td>\n",
       "      <td>3</td>\n",
       "      <td>1.142857</td>\n",
       "    </tr>\n",
       "    <tr>\n",
       "      <th>553648</th>\n",
       "      <td>1</td>\n",
       "      <td>90</td>\n",
       "      <td>141</td>\n",
       "      <td>143</td>\n",
       "      <td>13.9</td>\n",
       "      <td>30</td>\n",
       "      <td>1</td>\n",
       "      <td>1.941176</td>\n",
       "    </tr>\n",
       "    <tr>\n",
       "      <th>68976</th>\n",
       "      <td>1</td>\n",
       "      <td>116</td>\n",
       "      <td>222</td>\n",
       "      <td>99</td>\n",
       "      <td>13.2</td>\n",
       "      <td>47</td>\n",
       "      <td>3</td>\n",
       "      <td>1.074074</td>\n",
       "    </tr>\n",
       "    <tr>\n",
       "      <th>...</th>\n",
       "      <td>...</td>\n",
       "      <td>...</td>\n",
       "      <td>...</td>\n",
       "      <td>...</td>\n",
       "      <td>...</td>\n",
       "      <td>...</td>\n",
       "      <td>...</td>\n",
       "      <td>...</td>\n",
       "    </tr>\n",
       "    <tr>\n",
       "      <th>870940</th>\n",
       "      <td>0</td>\n",
       "      <td>93</td>\n",
       "      <td>145</td>\n",
       "      <td>173</td>\n",
       "      <td>12.2</td>\n",
       "      <td>15</td>\n",
       "      <td>1</td>\n",
       "      <td>1.900000</td>\n",
       "    </tr>\n",
       "    <tr>\n",
       "      <th>784309</th>\n",
       "      <td>0</td>\n",
       "      <td>107</td>\n",
       "      <td>235</td>\n",
       "      <td>129</td>\n",
       "      <td>12.1</td>\n",
       "      <td>26</td>\n",
       "      <td>1</td>\n",
       "      <td>0.434783</td>\n",
       "    </tr>\n",
       "    <tr>\n",
       "      <th>212419</th>\n",
       "      <td>0</td>\n",
       "      <td>79</td>\n",
       "      <td>223</td>\n",
       "      <td>66</td>\n",
       "      <td>13.1</td>\n",
       "      <td>14</td>\n",
       "      <td>1</td>\n",
       "      <td>2.222222</td>\n",
       "    </tr>\n",
       "    <tr>\n",
       "      <th>56546</th>\n",
       "      <td>1</td>\n",
       "      <td>95</td>\n",
       "      <td>213</td>\n",
       "      <td>147</td>\n",
       "      <td>16.2</td>\n",
       "      <td>96</td>\n",
       "      <td>3</td>\n",
       "      <td>2.000000</td>\n",
       "    </tr>\n",
       "    <tr>\n",
       "      <th>831396</th>\n",
       "      <td>0</td>\n",
       "      <td>80</td>\n",
       "      <td>208</td>\n",
       "      <td>26</td>\n",
       "      <td>12.9</td>\n",
       "      <td>20</td>\n",
       "      <td>1</td>\n",
       "      <td>1.250000</td>\n",
       "    </tr>\n",
       "  </tbody>\n",
       "</table>\n",
       "<p>786803 rows × 8 columns</p>\n",
       "</div>"
      ],
      "text/plain": [
       "        sex  BLDS  cholestrol  triglyceride  hemoglobin  gamma_GTP  \\\n",
       "740490    1   113         194            92        16.6         50   \n",
       "593638    1   102         165           265        13.8         68   \n",
       "383653    1    97         227           140        12.0         31   \n",
       "553648    1    90         141           143        13.9         30   \n",
       "68976     1   116         222            99        13.2         47   \n",
       "...     ...   ...         ...           ...         ...        ...   \n",
       "870940    0    93         145           173        12.2         15   \n",
       "784309    0   107         235           129        12.1         26   \n",
       "212419    0    79         223            66        13.1         14   \n",
       "56546     1    95         213           147        16.2         96   \n",
       "831396    0    80         208            26        12.9         20   \n",
       "\n",
       "        SMK_stat_type_cd   AST/ALT  \n",
       "740490                 1  0.814815  \n",
       "593638                 3  1.277778  \n",
       "383653                 3  1.142857  \n",
       "553648                 1  1.941176  \n",
       "68976                  3  1.074074  \n",
       "...                  ...       ...  \n",
       "870940                 1  1.900000  \n",
       "784309                 1  0.434783  \n",
       "212419                 1  2.222222  \n",
       "56546                  3  2.000000  \n",
       "831396                 1  1.250000  \n",
       "\n",
       "[786803 rows x 8 columns]"
      ]
     },
     "execution_count": 58,
     "metadata": {},
     "output_type": "execute_result"
    }
   ],
   "source": [
    "X_train"
   ]
  },
  {
   "cell_type": "code",
   "execution_count": 59,
   "id": "d41deacf-e376-476a-978e-9fb8a92273ee",
   "metadata": {},
   "outputs": [
    {
     "data": {
      "text/html": [
       "<div>\n",
       "<style scoped>\n",
       "    .dataframe tbody tr th:only-of-type {\n",
       "        vertical-align: middle;\n",
       "    }\n",
       "\n",
       "    .dataframe tbody tr th {\n",
       "        vertical-align: top;\n",
       "    }\n",
       "\n",
       "    .dataframe thead th {\n",
       "        text-align: right;\n",
       "    }\n",
       "</style>\n",
       "<table border=\"1\" class=\"dataframe\">\n",
       "  <thead>\n",
       "    <tr style=\"text-align: right;\">\n",
       "      <th></th>\n",
       "      <th>sex</th>\n",
       "      <th>BLDS</th>\n",
       "      <th>cholestrol</th>\n",
       "      <th>triglyceride</th>\n",
       "      <th>hemoglobin</th>\n",
       "      <th>gamma_GTP</th>\n",
       "      <th>SMK_stat_type_cd</th>\n",
       "      <th>AST/ALT</th>\n",
       "    </tr>\n",
       "  </thead>\n",
       "  <tbody>\n",
       "    <tr>\n",
       "      <th>536790</th>\n",
       "      <td>1</td>\n",
       "      <td>97</td>\n",
       "      <td>134</td>\n",
       "      <td>58</td>\n",
       "      <td>15.5</td>\n",
       "      <td>17</td>\n",
       "      <td>3</td>\n",
       "      <td>1.000000</td>\n",
       "    </tr>\n",
       "    <tr>\n",
       "      <th>603656</th>\n",
       "      <td>0</td>\n",
       "      <td>99</td>\n",
       "      <td>197</td>\n",
       "      <td>93</td>\n",
       "      <td>12.9</td>\n",
       "      <td>19</td>\n",
       "      <td>1</td>\n",
       "      <td>1.333333</td>\n",
       "    </tr>\n",
       "    <tr>\n",
       "      <th>876440</th>\n",
       "      <td>0</td>\n",
       "      <td>92</td>\n",
       "      <td>170</td>\n",
       "      <td>153</td>\n",
       "      <td>14.4</td>\n",
       "      <td>7</td>\n",
       "      <td>1</td>\n",
       "      <td>1.166667</td>\n",
       "    </tr>\n",
       "    <tr>\n",
       "      <th>482887</th>\n",
       "      <td>0</td>\n",
       "      <td>79</td>\n",
       "      <td>220</td>\n",
       "      <td>166</td>\n",
       "      <td>14.5</td>\n",
       "      <td>19</td>\n",
       "      <td>1</td>\n",
       "      <td>1.647059</td>\n",
       "    </tr>\n",
       "    <tr>\n",
       "      <th>457468</th>\n",
       "      <td>0</td>\n",
       "      <td>91</td>\n",
       "      <td>218</td>\n",
       "      <td>326</td>\n",
       "      <td>10.2</td>\n",
       "      <td>17</td>\n",
       "      <td>3</td>\n",
       "      <td>1.272727</td>\n",
       "    </tr>\n",
       "    <tr>\n",
       "      <th>...</th>\n",
       "      <td>...</td>\n",
       "      <td>...</td>\n",
       "      <td>...</td>\n",
       "      <td>...</td>\n",
       "      <td>...</td>\n",
       "      <td>...</td>\n",
       "      <td>...</td>\n",
       "      <td>...</td>\n",
       "    </tr>\n",
       "    <tr>\n",
       "      <th>919092</th>\n",
       "      <td>1</td>\n",
       "      <td>93</td>\n",
       "      <td>254</td>\n",
       "      <td>145</td>\n",
       "      <td>15.4</td>\n",
       "      <td>85</td>\n",
       "      <td>3</td>\n",
       "      <td>0.862069</td>\n",
       "    </tr>\n",
       "    <tr>\n",
       "      <th>222926</th>\n",
       "      <td>0</td>\n",
       "      <td>96</td>\n",
       "      <td>177</td>\n",
       "      <td>53</td>\n",
       "      <td>13.5</td>\n",
       "      <td>10</td>\n",
       "      <td>1</td>\n",
       "      <td>1.400000</td>\n",
       "    </tr>\n",
       "    <tr>\n",
       "      <th>308028</th>\n",
       "      <td>0</td>\n",
       "      <td>91</td>\n",
       "      <td>142</td>\n",
       "      <td>36</td>\n",
       "      <td>16.1</td>\n",
       "      <td>19</td>\n",
       "      <td>1</td>\n",
       "      <td>1.068966</td>\n",
       "    </tr>\n",
       "    <tr>\n",
       "      <th>928239</th>\n",
       "      <td>0</td>\n",
       "      <td>68</td>\n",
       "      <td>180</td>\n",
       "      <td>41</td>\n",
       "      <td>14.1</td>\n",
       "      <td>11</td>\n",
       "      <td>1</td>\n",
       "      <td>2.111111</td>\n",
       "    </tr>\n",
       "    <tr>\n",
       "      <th>553350</th>\n",
       "      <td>0</td>\n",
       "      <td>89</td>\n",
       "      <td>223</td>\n",
       "      <td>57</td>\n",
       "      <td>13.0</td>\n",
       "      <td>11</td>\n",
       "      <td>1</td>\n",
       "      <td>1.750000</td>\n",
       "    </tr>\n",
       "  </tbody>\n",
       "</table>\n",
       "<p>196701 rows × 8 columns</p>\n",
       "</div>"
      ],
      "text/plain": [
       "        sex  BLDS  cholestrol  triglyceride  hemoglobin  gamma_GTP  \\\n",
       "536790    1    97         134            58        15.5         17   \n",
       "603656    0    99         197            93        12.9         19   \n",
       "876440    0    92         170           153        14.4          7   \n",
       "482887    0    79         220           166        14.5         19   \n",
       "457468    0    91         218           326        10.2         17   \n",
       "...     ...   ...         ...           ...         ...        ...   \n",
       "919092    1    93         254           145        15.4         85   \n",
       "222926    0    96         177            53        13.5         10   \n",
       "308028    0    91         142            36        16.1         19   \n",
       "928239    0    68         180            41        14.1         11   \n",
       "553350    0    89         223            57        13.0         11   \n",
       "\n",
       "        SMK_stat_type_cd   AST/ALT  \n",
       "536790                 3  1.000000  \n",
       "603656                 1  1.333333  \n",
       "876440                 1  1.166667  \n",
       "482887                 1  1.647059  \n",
       "457468                 3  1.272727  \n",
       "...                  ...       ...  \n",
       "919092                 3  0.862069  \n",
       "222926                 1  1.400000  \n",
       "308028                 1  1.068966  \n",
       "928239                 1  2.111111  \n",
       "553350                 1  1.750000  \n",
       "\n",
       "[196701 rows x 8 columns]"
      ]
     },
     "execution_count": 59,
     "metadata": {},
     "output_type": "execute_result"
    }
   ],
   "source": [
    "X_test"
   ]
  },
  {
   "cell_type": "code",
   "execution_count": 60,
   "id": "00635822-38f9-4f6f-81c1-c8c4c1d2eba4",
   "metadata": {},
   "outputs": [
    {
     "data": {
      "text/html": [
       "<style>#sk-container-id-1 {color: black;}#sk-container-id-1 pre{padding: 0;}#sk-container-id-1 div.sk-toggleable {background-color: white;}#sk-container-id-1 label.sk-toggleable__label {cursor: pointer;display: block;width: 100%;margin-bottom: 0;padding: 0.3em;box-sizing: border-box;text-align: center;}#sk-container-id-1 label.sk-toggleable__label-arrow:before {content: \"▸\";float: left;margin-right: 0.25em;color: #696969;}#sk-container-id-1 label.sk-toggleable__label-arrow:hover:before {color: black;}#sk-container-id-1 div.sk-estimator:hover label.sk-toggleable__label-arrow:before {color: black;}#sk-container-id-1 div.sk-toggleable__content {max-height: 0;max-width: 0;overflow: hidden;text-align: left;background-color: #f0f8ff;}#sk-container-id-1 div.sk-toggleable__content pre {margin: 0.2em;color: black;border-radius: 0.25em;background-color: #f0f8ff;}#sk-container-id-1 input.sk-toggleable__control:checked~div.sk-toggleable__content {max-height: 200px;max-width: 100%;overflow: auto;}#sk-container-id-1 input.sk-toggleable__control:checked~label.sk-toggleable__label-arrow:before {content: \"▾\";}#sk-container-id-1 div.sk-estimator input.sk-toggleable__control:checked~label.sk-toggleable__label {background-color: #d4ebff;}#sk-container-id-1 div.sk-label input.sk-toggleable__control:checked~label.sk-toggleable__label {background-color: #d4ebff;}#sk-container-id-1 input.sk-hidden--visually {border: 0;clip: rect(1px 1px 1px 1px);clip: rect(1px, 1px, 1px, 1px);height: 1px;margin: -1px;overflow: hidden;padding: 0;position: absolute;width: 1px;}#sk-container-id-1 div.sk-estimator {font-family: monospace;background-color: #f0f8ff;border: 1px dotted black;border-radius: 0.25em;box-sizing: border-box;margin-bottom: 0.5em;}#sk-container-id-1 div.sk-estimator:hover {background-color: #d4ebff;}#sk-container-id-1 div.sk-parallel-item::after {content: \"\";width: 100%;border-bottom: 1px solid gray;flex-grow: 1;}#sk-container-id-1 div.sk-label:hover label.sk-toggleable__label {background-color: #d4ebff;}#sk-container-id-1 div.sk-serial::before {content: \"\";position: absolute;border-left: 1px solid gray;box-sizing: border-box;top: 0;bottom: 0;left: 50%;z-index: 0;}#sk-container-id-1 div.sk-serial {display: flex;flex-direction: column;align-items: center;background-color: white;padding-right: 0.2em;padding-left: 0.2em;position: relative;}#sk-container-id-1 div.sk-item {position: relative;z-index: 1;}#sk-container-id-1 div.sk-parallel {display: flex;align-items: stretch;justify-content: center;background-color: white;position: relative;}#sk-container-id-1 div.sk-item::before, #sk-container-id-1 div.sk-parallel-item::before {content: \"\";position: absolute;border-left: 1px solid gray;box-sizing: border-box;top: 0;bottom: 0;left: 50%;z-index: -1;}#sk-container-id-1 div.sk-parallel-item {display: flex;flex-direction: column;z-index: 1;position: relative;background-color: white;}#sk-container-id-1 div.sk-parallel-item:first-child::after {align-self: flex-end;width: 50%;}#sk-container-id-1 div.sk-parallel-item:last-child::after {align-self: flex-start;width: 50%;}#sk-container-id-1 div.sk-parallel-item:only-child::after {width: 0;}#sk-container-id-1 div.sk-dashed-wrapped {border: 1px dashed gray;margin: 0 0.4em 0.5em 0.4em;box-sizing: border-box;padding-bottom: 0.4em;background-color: white;}#sk-container-id-1 div.sk-label label {font-family: monospace;font-weight: bold;display: inline-block;line-height: 1.2em;}#sk-container-id-1 div.sk-label-container {text-align: center;}#sk-container-id-1 div.sk-container {/* jupyter's `normalize.less` sets `[hidden] { display: none; }` but bootstrap.min.css set `[hidden] { display: none !important; }` so we also need the `!important` here to be able to override the default hidden behavior on the sphinx rendered scikit-learn.org. See: https://github.com/scikit-learn/scikit-learn/issues/21755 */display: inline-block !important;position: relative;}#sk-container-id-1 div.sk-text-repr-fallback {display: none;}</style><div id=\"sk-container-id-1\" class=\"sk-top-container\"><div class=\"sk-text-repr-fallback\"><pre>LinearRegression()</pre><b>In a Jupyter environment, please rerun this cell to show the HTML representation or trust the notebook. <br />On GitHub, the HTML representation is unable to render, please try loading this page with nbviewer.org.</b></div><div class=\"sk-container\" hidden><div class=\"sk-item\"><div class=\"sk-estimator sk-toggleable\"><input class=\"sk-toggleable__control sk-hidden--visually\" id=\"sk-estimator-id-1\" type=\"checkbox\" checked><label for=\"sk-estimator-id-1\" class=\"sk-toggleable__label sk-toggleable__label-arrow\">LinearRegression</label><div class=\"sk-toggleable__content\"><pre>LinearRegression()</pre></div></div></div></div></div>"
      ],
      "text/plain": [
       "LinearRegression()"
      ]
     },
     "execution_count": 60,
     "metadata": {},
     "output_type": "execute_result"
    }
   ],
   "source": [
    "##now our data is ready for linear regression\n",
    "from sklearn.linear_model import LinearRegression\n",
    "\n",
    "lr = LinearRegression()\n",
    "lr.fit(X_train, y_train)\n"
   ]
  },
  {
   "cell_type": "code",
   "execution_count": 62,
   "id": "1e08f05e-a0dc-4aa1-9916-46f4a8d3a070",
   "metadata": {},
   "outputs": [],
   "source": [
    "y_lr_train_pred = lr.predict(X_train)\n",
    "y_lr_test_pred = lr.predict(X_test)\n"
   ]
  },
  {
   "cell_type": "code",
   "execution_count": 63,
   "id": "93842e95-c11a-490c-924e-98f2b58824c1",
   "metadata": {},
   "outputs": [
    {
     "data": {
      "text/plain": [
       "array([0.58173074, 0.74063919, 0.69743801, ..., 0.32092555, 0.87372001,\n",
       "       0.31854831])"
      ]
     },
     "execution_count": 63,
     "metadata": {},
     "output_type": "execute_result"
    }
   ],
   "source": [
    "y_lr_train_pred\n"
   ]
  },
  {
   "cell_type": "code",
   "execution_count": 64,
   "id": "13a4def7-b24d-4d62-8d32-a097ef040606",
   "metadata": {},
   "outputs": [
    {
     "data": {
      "text/plain": [
       "array([0.76469443, 0.28481232, 0.29346441, ..., 0.36709301, 0.34843401,\n",
       "       0.30325685])"
      ]
     },
     "execution_count": 64,
     "metadata": {},
     "output_type": "execute_result"
    }
   ],
   "source": [
    "y_lr_test_pred\n"
   ]
  },
  {
   "cell_type": "markdown",
   "id": "4d93d5a7-9a20-4348-8f2d-dd24e3c037c3",
   "metadata": {},
   "source": [
    "  ## *Evaluate model perfomance*"
   ]
  },
  {
   "cell_type": "code",
   "execution_count": 65,
   "id": "fb83edfb-6f6f-42d0-8e87-dcf95c4618bc",
   "metadata": {},
   "outputs": [],
   "source": [
    "from sklearn.metrics import mean_squared_error, r2_score\n",
    "\n",
    "lr_train_mse = mean_squared_error(y_train, y_lr_train_pred)\n",
    "lr_train_r2 = r2_score(y_train, y_lr_train_pred)\n",
    "\n",
    "lr_test_mse = mean_squared_error(y_test, y_lr_test_pred)\n",
    "lr_test_r2 = r2_score(y_test, y_lr_test_pred)\n"
   ]
  },
  {
   "cell_type": "code",
   "execution_count": 66,
   "id": "67b4c0da-429c-49f4-ac69-4f8a0fe81e42",
   "metadata": {},
   "outputs": [
    {
     "name": "stdout",
     "output_type": "stream",
     "text": [
      "LR MSE (Train):  0.20582306078827237\n",
      "LR R2 (Train):  0.17668450836453942\n",
      "LR MSE (Test):  0.20601417152805657\n",
      "LR R2 (Test):  0.17593748815714427\n"
     ]
    }
   ],
   "source": [
    "print('LR MSE (Train): ', lr_train_mse)\n",
    "print('LR R2 (Train): ', lr_train_r2)\n",
    "print('LR MSE (Test): ', lr_test_mse)\n",
    "print('LR R2 (Test): ', lr_test_r2)\n"
   ]
  },
  {
   "cell_type": "code",
   "execution_count": 67,
   "id": "2605d402-1103-4277-b8b1-dea51bfdf096",
   "metadata": {},
   "outputs": [],
   "source": [
    "lr_results = pd.DataFrame(['Linear regression', lr_train_mse, lr_train_r2, lr_test_mse, lr_test_r2]).transpose()\n",
    "lr_results.columns = ['Method', 'Training MSE', 'Training R2', 'Test MSE', 'Test R2']\n"
   ]
  },
  {
   "cell_type": "code",
   "execution_count": 68,
   "id": "94723c01-bca0-4320-9898-591160f8f5a0",
   "metadata": {},
   "outputs": [
    {
     "data": {
      "text/html": [
       "<div>\n",
       "<style scoped>\n",
       "    .dataframe tbody tr th:only-of-type {\n",
       "        vertical-align: middle;\n",
       "    }\n",
       "\n",
       "    .dataframe tbody tr th {\n",
       "        vertical-align: top;\n",
       "    }\n",
       "\n",
       "    .dataframe thead th {\n",
       "        text-align: right;\n",
       "    }\n",
       "</style>\n",
       "<table border=\"1\" class=\"dataframe\">\n",
       "  <thead>\n",
       "    <tr style=\"text-align: right;\">\n",
       "      <th></th>\n",
       "      <th>Method</th>\n",
       "      <th>Training MSE</th>\n",
       "      <th>Training R2</th>\n",
       "      <th>Test MSE</th>\n",
       "      <th>Test R2</th>\n",
       "    </tr>\n",
       "  </thead>\n",
       "  <tbody>\n",
       "    <tr>\n",
       "      <th>0</th>\n",
       "      <td>Linear regression</td>\n",
       "      <td>0.205823</td>\n",
       "      <td>0.176685</td>\n",
       "      <td>0.206014</td>\n",
       "      <td>0.175937</td>\n",
       "    </tr>\n",
       "  </tbody>\n",
       "</table>\n",
       "</div>"
      ],
      "text/plain": [
       "              Method Training MSE Training R2  Test MSE   Test R2\n",
       "0  Linear regression     0.205823    0.176685  0.206014  0.175937"
      ]
     },
     "execution_count": 68,
     "metadata": {},
     "output_type": "execute_result"
    }
   ],
   "source": [
    "lr_results\n"
   ]
  },
  {
   "cell_type": "markdown",
   "id": "d40208c4-1623-4ffe-ae01-ff4d1ae72498",
   "metadata": {},
   "source": [
    "**This is not a good model for classification. Its useful for regression**"
   ]
  },
  {
   "cell_type": "markdown",
   "id": "9f787905-e8cd-4915-8cdd-a6a8d0c78037",
   "metadata": {},
   "source": [
    "### Logistic regression\n"
   ]
  },
  {
   "cell_type": "markdown",
   "id": "31e19195-f1d7-429a-9eee-208f573992d0",
   "metadata": {},
   "source": [
    "#### training the model"
   ]
  },
  {
   "cell_type": "markdown",
   "id": "7c983130-1b08-497b-b207-eaf418c53f8c",
   "metadata": {},
   "source": [
    "**Applying the model for a prediction**"
   ]
  },
  {
   "cell_type": "code",
   "execution_count": 69,
   "id": "b8a7af5c-8878-469d-95bc-b65a58806056",
   "metadata": {},
   "outputs": [],
   "source": [
    "from sklearn.linear_model import LogisticRegression\n",
    "model = LogisticRegression()\n"
   ]
  },
  {
   "cell_type": "code",
   "execution_count": 70,
   "id": "e61421dd-5a09-4eec-a3c3-3e5521a11c24",
   "metadata": {},
   "outputs": [
    {
     "name": "stdout",
     "output_type": "stream",
     "text": [
      "Time taken to fit the model: 4.76 seconds\n"
     ]
    }
   ],
   "source": [
    "import time\n",
    "# Start timing\n",
    "start_time = time.time()\n",
    "model.fit(X_train, y_train)\n",
    "end_time = time.time()\n",
    "\n",
    "# Calculate the time taken\n",
    "elapsed_time = end_time - start_time\n",
    "\n",
    "print(f\"Time taken to fit the model: {elapsed_time:.2f} seconds\")\n",
    "\n"
   ]
  },
  {
   "cell_type": "markdown",
   "id": "bf00ff1a-29da-4988-9404-ea58952093a2",
   "metadata": {},
   "source": [
    "## Evaluate model perfomance"
   ]
  },
  {
   "cell_type": "code",
   "execution_count": 71,
   "id": "913d8d87-6a6a-46f2-908e-8ce2105706a5",
   "metadata": {},
   "outputs": [],
   "source": [
    "y_predicted = model.predict(X_test)\n"
   ]
  },
  {
   "cell_type": "code",
   "execution_count": 72,
   "id": "9b4d73e5-ca29-4395-8c1d-0b3fb156c7ac",
   "metadata": {},
   "outputs": [
    {
     "data": {
      "text/plain": [
       "array([[0.24933023, 0.75066977],\n",
       "       [0.71240996, 0.28759004],\n",
       "       [0.74910993, 0.25089007],\n",
       "       ...,\n",
       "       [0.70584794, 0.29415206],\n",
       "       [0.60579807, 0.39420193],\n",
       "       [0.68251462, 0.31748538]])"
      ]
     },
     "execution_count": 72,
     "metadata": {},
     "output_type": "execute_result"
    }
   ],
   "source": [
    "model.predict_proba(X_test)\n"
   ]
  },
  {
   "cell_type": "code",
   "execution_count": 73,
   "id": "be89932d-50e0-4b58-8da2-a5c3b674c82d",
   "metadata": {},
   "outputs": [
    {
     "data": {
      "text/plain": [
       "0.6896050350532026"
      ]
     },
     "execution_count": 73,
     "metadata": {},
     "output_type": "execute_result"
    }
   ],
   "source": [
    "model.score(X_test,y_test)\n"
   ]
  },
  {
   "cell_type": "markdown",
   "id": "ca4d223a-0817-4c14-9989-a91250c6c4b9",
   "metadata": {},
   "source": [
    "**Model shows around 0.69 accuracy which is good**\n"
   ]
  },
  {
   "cell_type": "markdown",
   "id": "3718e7aa-e7f1-4c5c-a29a-c55e9ac5cad9",
   "metadata": {},
   "source": [
    "### KNN CLassifier"
   ]
  },
  {
   "cell_type": "code",
   "execution_count": 74,
   "id": "a0ce0690-f80a-4afb-8fb9-c59e52f9f722",
   "metadata": {},
   "outputs": [],
   "source": [
    "from sklearn.neighbors import KNeighborsClassifier\n",
    "knn = KNeighborsClassifier(n_neighbors=315)\n",
    "## choosing 315 as it an odd number close to the square root of number of samples.\n"
   ]
  },
  {
   "cell_type": "code",
   "execution_count": 75,
   "id": "65bbf440-1d73-4def-a914-78f07698d688",
   "metadata": {},
   "outputs": [
    {
     "name": "stdout",
     "output_type": "stream",
     "text": [
      "Time taken to fit the model: 2.23 seconds\n"
     ]
    }
   ],
   "source": [
    "start_time=time.time()\n",
    "knn.fit(X_train, y_train)\n",
    "end_time=time.time()\n",
    "elapsed_time = end_time - start_time\n",
    "\n",
    "print(f\"Time taken to fit the model: {elapsed_time:.2f} seconds\")\n",
    "\n",
    "\n"
   ]
  },
  {
   "cell_type": "code",
   "execution_count": 76,
   "id": "a285e55b-4616-4e6f-84a9-1534fe61874a",
   "metadata": {},
   "outputs": [
    {
     "data": {
      "text/plain": [
       "0.644562051031769"
      ]
     },
     "execution_count": 76,
     "metadata": {},
     "output_type": "execute_result"
    }
   ],
   "source": [
    "knn.score(X_test, y_test)\n",
    "\n"
   ]
  },
  {
   "cell_type": "markdown",
   "id": "86ec6b33-b60c-48b0-ac51-94095b4a8341",
   "metadata": {},
   "source": [
    "**Its an ok score.<br>\n",
    "But computational speed is extremely fast(just 2.23 seconds).**\n"
   ]
  },
  {
   "cell_type": "markdown",
   "id": "e78d18e8-a8a5-48b8-a21d-61225ade547e",
   "metadata": {},
   "source": [
    "## Decision trees\n"
   ]
  },
  {
   "cell_type": "code",
   "execution_count": 77,
   "id": "ffcb8f12-7797-41e4-b067-1d9edb720a03",
   "metadata": {},
   "outputs": [],
   "source": [
    "from sklearn import tree\n",
    "model = tree.DecisionTreeClassifier()\n"
   ]
  },
  {
   "cell_type": "code",
   "execution_count": 78,
   "id": "0423d730-f202-4e3e-a116-d3f2cfa315c3",
   "metadata": {},
   "outputs": [
    {
     "name": "stdout",
     "output_type": "stream",
     "text": [
      "Time taken to fit the model: 8.20 seconds\n"
     ]
    }
   ],
   "source": [
    "start_time=time.time()\n",
    "model.fit(X_train, y_train)\n",
    "end_time=time.time()\n",
    "elapsed_time = end_time - start_time\n",
    "\n",
    "print(f\"Time taken to fit the model: {elapsed_time:.2f} seconds\")\n",
    "\n"
   ]
  },
  {
   "cell_type": "code",
   "execution_count": 79,
   "id": "808ec99e-946c-4ba6-b49c-326b47bf9d55",
   "metadata": {},
   "outputs": [
    {
     "data": {
      "text/plain": [
       "0.6029150843157889"
      ]
     },
     "execution_count": 79,
     "metadata": {},
     "output_type": "execute_result"
    }
   ],
   "source": [
    "model.score(X_test, y_test)\n"
   ]
  },
  {
   "cell_type": "markdown",
   "id": "8cb63b2d-3e0a-4dac-b625-f70f747387cf",
   "metadata": {},
   "source": [
    "**Below average score.<br>\n",
    " Bad accuracy and more time so neglecting this model...**\n"
   ]
  },
  {
   "cell_type": "markdown",
   "id": "f1c4cf0c-ae73-4491-822a-cf3d080bf740",
   "metadata": {},
   "source": [
    "## SVM\n"
   ]
  },
  {
   "cell_type": "markdown",
   "id": "5e29fcf8-88f9-4f4f-b127-a7be720e1538",
   "metadata": {},
   "source": [
    "**This is taking a lot of time, so lets not consider this model.**"
   ]
  },
  {
   "cell_type": "markdown",
   "id": "ca9091b1-a639-4fdc-82cf-2b4b5bf83907",
   "metadata": {},
   "source": [
    "## Random Forest"
   ]
  },
  {
   "cell_type": "code",
   "execution_count": 80,
   "id": "c14ce595-025c-45b6-99f4-798ea9636e75",
   "metadata": {},
   "outputs": [
    {
     "name": "stdout",
     "output_type": "stream",
     "text": [
      "Time taken to fit the model: 368.14 seconds\n"
     ]
    }
   ],
   "source": [
    "from sklearn.ensemble import RandomForestClassifier\n",
    "model = RandomForestClassifier(n_estimators=120)\n",
    "start_time=time.time()\n",
    "\n",
    "model.fit(X_train, y_train)\n",
    "end_time=time.time()\n",
    "elapsed_time = end_time - start_time\n",
    "\n",
    "print(f\"Time taken to fit the model: {elapsed_time:.2f} seconds\")\n",
    "\n"
   ]
  },
  {
   "cell_type": "code",
   "execution_count": 81,
   "id": "c9765d8a-09c3-49cb-8a4e-f15cfdb67405",
   "metadata": {},
   "outputs": [
    {
     "data": {
      "text/plain": [
       "0.6949990086476429"
      ]
     },
     "execution_count": 81,
     "metadata": {},
     "output_type": "execute_result"
    }
   ],
   "source": [
    "model.score(X_test, y_test)"
   ]
  },
  {
   "cell_type": "markdown",
   "id": "2cc0c886-431e-4eba-899b-1f82f406bc11",
   "metadata": {},
   "source": [
    "**Best perfomance so far(in terms of  accuracy) but very bad computational speed<br>\n",
    " I couldnt do K fold cross and grid search CV due to the huge data set.It was taking too much time.\n",
    " We can are left with 3 models- KNN classifier,Random Forest and Logistic Regression.**\n",
    " "
   ]
  },
  {
   "cell_type": "markdown",
   "id": "12384fc9-78c5-42f6-93e8-86e6a2f0a2a8",
   "metadata": {},
   "source": [
    "### Memory usage for Random forest and Logistic Regression and KNN classifier"
   ]
  },
  {
   "cell_type": "markdown",
   "id": "eda43202-df59-4a52-a814-cbcb5b3301c5",
   "metadata": {},
   "source": [
    " *Logistic regression consumes less memory as is a linear model. Random Forests are ensemble models that consist of multiple decision trees. The memory would be really high as there are around 1 million samples(large dataset). KNN consumes lesser memory compared to Random forest but more than logistic regression*"
   ]
  },
  {
   "cell_type": "markdown",
   "id": "73770f84-8a46-4ae9-b4d0-aef6e5ea5844",
   "metadata": {},
   "source": [
    "**Pros of Random Forest- Best accuracy. <br>\n",
    "Cons of Random Forest- Consumes most memory and slow computational speed**\n"
   ]
  },
  {
   "cell_type": "markdown",
   "id": "01d27dcc-c2ee-4be7-b065-0a169dd80b91",
   "metadata": {},
   "source": [
    "**Pros of Logistic Regression- Linear model hence consumes least memory.<br>\n",
    " Cons of Logistic Regression- slightly less accurate and takes slightly more time than KNN**"
   ]
  },
  {
   "cell_type": "markdown",
   "id": "0826792c-4c81-423c-ba0f-eea13447fa0d",
   "metadata": {},
   "source": [
    "**Pros of KNN classifier-Extremely fast computational speed<br>\n",
    "Cons of KNN classifier- Bad accuracy and takes up memory space**\n"
   ]
  },
  {
   "cell_type": "markdown",
   "id": "4163f6bf-6d93-4bf8-8fde-3052817be78c",
   "metadata": {},
   "source": [
    "**Overall the best model is logistic regression as it provides good computational speed, accuracy and consumes less memory compared to other models.** "
   ]
  },
  {
   "cell_type": "markdown",
   "id": "c413a4e6-41b5-4381-b1bb-ca8260148b94",
   "metadata": {},
   "source": [
    "**So according to me the best model is Logistic Regression.**"
   ]
  }
 ],
 "metadata": {
  "kernelspec": {
   "display_name": "Python 3 (ipykernel)",
   "language": "python",
   "name": "python3"
  },
  "language_info": {
   "codemirror_mode": {
    "name": "ipython",
    "version": 3
   },
   "file_extension": ".py",
   "mimetype": "text/x-python",
   "name": "python",
   "nbconvert_exporter": "python",
   "pygments_lexer": "ipython3",
   "version": "3.11.0"
  }
 },
 "nbformat": 4,
 "nbformat_minor": 5
}
